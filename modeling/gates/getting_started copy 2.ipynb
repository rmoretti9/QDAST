{
 "cells": [
  {
   "cell_type": "code",
   "execution_count": null,
   "metadata": {},
   "outputs": [
    {
     "ename": "ImportError",
     "evalue": "Importing 'qutip.control' requires the 'qutip_qtrl' package. Install it with `pip install qutip-qtrl` (for more details, go to https://qutip-qtrl.readthedocs.io/).",
     "output_type": "error",
     "traceback": [
      "\u001b[1;31m---------------------------------------------------------------------------\u001b[0m",
      "\u001b[1;31mModuleNotFoundError\u001b[0m                       Traceback (most recent call last)",
      "File \u001b[1;32mc:\\Users\\pc\\Desktop\\work\\.venv\\Lib\\site-packages\\qutip\\control.py:5\u001b[0m\n\u001b[0;32m      4\u001b[0m \u001b[38;5;28;01mtry\u001b[39;00m:\n\u001b[1;32m----> 5\u001b[0m     \u001b[38;5;28;01mimport\u001b[39;00m \u001b[38;5;21;01mqutip_qtrl\u001b[39;00m\n\u001b[0;32m      6\u001b[0m     \u001b[38;5;28;01mdel\u001b[39;00m qutip_qtrl\n",
      "\u001b[1;31mModuleNotFoundError\u001b[0m: No module named 'qutip_qtrl'",
      "\nDuring handling of the above exception, another exception occurred:\n",
      "\u001b[1;31mImportError\u001b[0m                               Traceback (most recent call last)",
      "Cell \u001b[1;32mIn[1], line 4\u001b[0m\n\u001b[0;32m      2\u001b[0m \u001b[38;5;28;01mfrom\u001b[39;00m \u001b[38;5;21;01mqutip\u001b[39;00m \u001b[38;5;28;01mimport\u001b[39;00m basis\n\u001b[0;32m      3\u001b[0m \u001b[38;5;28;01mfrom\u001b[39;00m \u001b[38;5;21;01mqutip_qip\u001b[39;00m\u001b[38;5;21;01m.\u001b[39;00m\u001b[38;5;21;01mcircuit\u001b[39;00m \u001b[38;5;28;01mimport\u001b[39;00m QubitCircuit\n\u001b[1;32m----> 4\u001b[0m \u001b[38;5;28;01mfrom\u001b[39;00m \u001b[38;5;21;01mqutip_qip\u001b[39;00m\u001b[38;5;21;01m.\u001b[39;00m\u001b[38;5;21;01mdevice\u001b[39;00m \u001b[38;5;28;01mimport\u001b[39;00m LinearSpinChain\n\u001b[0;32m      6\u001b[0m \u001b[38;5;66;03m# Define a circuit\u001b[39;00m\n\u001b[0;32m      7\u001b[0m qc \u001b[38;5;241m=\u001b[39m QubitCircuit(\u001b[38;5;241m3\u001b[39m)\n",
      "File \u001b[1;32mc:\\Users\\pc\\Desktop\\work\\.venv\\Lib\\site-packages\\qutip_qip\\device\\__init__.py:12\u001b[0m\n\u001b[0;32m      6\u001b[0m \u001b[38;5;28;01mfrom\u001b[39;00m \u001b[38;5;21;01m.\u001b[39;00m\u001b[38;5;21;01mspinchain\u001b[39;00m \u001b[38;5;28;01mimport\u001b[39;00m (\n\u001b[0;32m      7\u001b[0m     LinearSpinChain,\n\u001b[0;32m      8\u001b[0m     CircularSpinChain,\n\u001b[0;32m      9\u001b[0m     SpinChainModel,\n\u001b[0;32m     10\u001b[0m )\n\u001b[0;32m     11\u001b[0m \u001b[38;5;28;01mfrom\u001b[39;00m \u001b[38;5;21;01m.\u001b[39;00m\u001b[38;5;21;01mcavityqed\u001b[39;00m \u001b[38;5;28;01mimport\u001b[39;00m DispersiveCavityQED, CavityQEDModel\n\u001b[1;32m---> 12\u001b[0m \u001b[38;5;28;01mfrom\u001b[39;00m \u001b[38;5;21;01m.\u001b[39;00m\u001b[38;5;21;01moptpulseprocessor\u001b[39;00m \u001b[38;5;28;01mimport\u001b[39;00m OptPulseProcessor\n\u001b[0;32m     13\u001b[0m \u001b[38;5;28;01mfrom\u001b[39;00m \u001b[38;5;21;01m.\u001b[39;00m\u001b[38;5;21;01mcircuitqed\u001b[39;00m \u001b[38;5;28;01mimport\u001b[39;00m SCQubits, SCQubitsModel\n",
      "File \u001b[1;32mc:\\Users\\pc\\Desktop\\work\\.venv\\Lib\\site-packages\\qutip_qip\\device\\optpulseprocessor.py:8\u001b[0m\n\u001b[0;32m      5\u001b[0m \u001b[38;5;28;01mimport\u001b[39;00m \u001b[38;5;21;01mnumpy\u001b[39;00m \u001b[38;5;28;01mas\u001b[39;00m \u001b[38;5;21;01mnp\u001b[39;00m\n\u001b[0;32m      7\u001b[0m \u001b[38;5;28;01mfrom\u001b[39;00m \u001b[38;5;21;01mqutip\u001b[39;00m \u001b[38;5;28;01mimport\u001b[39;00m Qobj, identity, tensor, mesolve\n\u001b[1;32m----> 8\u001b[0m \u001b[38;5;28;01mimport\u001b[39;00m \u001b[38;5;21;01mqutip\u001b[39;00m\u001b[38;5;21;01m.\u001b[39;00m\u001b[38;5;21;01mcontrol\u001b[39;00m\u001b[38;5;21;01m.\u001b[39;00m\u001b[38;5;21;01mpulseoptim\u001b[39;00m \u001b[38;5;28;01mas\u001b[39;00m \u001b[38;5;21;01mcpo\u001b[39;00m\n\u001b[0;32m      9\u001b[0m \u001b[38;5;28;01mfrom\u001b[39;00m \u001b[38;5;21;01m.\u001b[39;00m\u001b[38;5;21;01m.\u001b[39;00m\u001b[38;5;21;01mcircuit\u001b[39;00m \u001b[38;5;28;01mimport\u001b[39;00m QubitCircuit\n\u001b[0;32m     10\u001b[0m \u001b[38;5;28;01mfrom\u001b[39;00m \u001b[38;5;21;01m.\u001b[39;00m\u001b[38;5;21;01mprocessor\u001b[39;00m \u001b[38;5;28;01mimport\u001b[39;00m Processor\n",
      "File \u001b[1;32mc:\\Users\\pc\\Desktop\\work\\.venv\\Lib\\site-packages\\qutip\\control.py:9\u001b[0m\n\u001b[0;32m      7\u001b[0m     sys\u001b[38;5;241m.\u001b[39mmodules[\u001b[38;5;124m\"\u001b[39m\u001b[38;5;124mqutip.control\u001b[39m\u001b[38;5;124m\"\u001b[39m] \u001b[38;5;241m=\u001b[39m sys\u001b[38;5;241m.\u001b[39mmodules[\u001b[38;5;124m\"\u001b[39m\u001b[38;5;124mqutip_qtrl\u001b[39m\u001b[38;5;124m\"\u001b[39m]\n\u001b[0;32m      8\u001b[0m \u001b[38;5;28;01mexcept\u001b[39;00m \u001b[38;5;167;01mImportError\u001b[39;00m:\n\u001b[1;32m----> 9\u001b[0m     \u001b[38;5;28;01mraise\u001b[39;00m \u001b[38;5;167;01mImportError\u001b[39;00m(\n\u001b[0;32m     10\u001b[0m         \u001b[38;5;124m\"\u001b[39m\u001b[38;5;124mImporting \u001b[39m\u001b[38;5;124m'\u001b[39m\u001b[38;5;124mqutip.control\u001b[39m\u001b[38;5;124m'\u001b[39m\u001b[38;5;124m requires the \u001b[39m\u001b[38;5;124m'\u001b[39m\u001b[38;5;124mqutip_qtrl\u001b[39m\u001b[38;5;124m'\u001b[39m\u001b[38;5;124m package. \u001b[39m\u001b[38;5;124m\"\u001b[39m\n\u001b[0;32m     11\u001b[0m         \u001b[38;5;124m\"\u001b[39m\u001b[38;5;124mInstall it with `pip install qutip-qtrl` (for more details, go to \u001b[39m\u001b[38;5;124m\"\u001b[39m\n\u001b[0;32m     12\u001b[0m         \u001b[38;5;124m\"\u001b[39m\u001b[38;5;124mhttps://qutip-qtrl.readthedocs.io/).\u001b[39m\u001b[38;5;124m\"\u001b[39m\n\u001b[0;32m     13\u001b[0m     )\n",
      "\u001b[1;31mImportError\u001b[0m: Importing 'qutip.control' requires the 'qutip_qtrl' package. Install it with `pip install qutip-qtrl` (for more details, go to https://qutip-qtrl.readthedocs.io/)."
     ]
    }
   ],
   "source": [
    "import numpy as np\n",
    "from qutip import basis\n",
    "from qutip_qip.circuit import QubitCircuit\n",
    "from qutip_qip.device import LinearSpinChain\n",
    "\n",
    "# Define a circuit\n",
    "qc = QubitCircuit(3)\n",
    "qc.add_gate(\"X\", targets=2)\n",
    "qc.add_gate(\"SNOT\", targets=0)\n",
    "qc.add_gate(\"SNOT\", targets=1)\n",
    "qc.add_gate(\"SNOT\", targets=2)\n",
    "\n",
    "# Oracle function f(x)\n",
    "qc.add_gate(\"CNOT\", controls=0, targets=2)\n",
    "qc.add_gate(\"CNOT\", controls=1, targets=2)\n",
    "\n",
    "qc.add_gate(\"SNOT\", targets=0)\n",
    "qc.add_gate(\"SNOT\", targets=1)\n",
    "\n",
    "# Run gate-level simulation\n",
    "init_state = basis([2,2,2], [0,0,0])\n",
    "ideal_result = qc.run(init_state)\n",
    "\n",
    "# Run pulse-level simulation\n",
    "processor = LinearSpinChain(num_qubits=3, sx=0.25, t2=30)\n",
    "processor.load_circuit(qc)\n",
    "tlist = np.linspace(0, 20, 300)\n",
    "result = processor.run_state(init_state, tlist=tlist)"
   ]
  },
  {
   "cell_type": "code",
   "execution_count": 1,
   "metadata": {},
   "outputs": [],
   "source": [
    "import scqubits as scq\n",
    "import numpy as np\n",
    "import qutip as qt"
   ]
  },
  {
   "cell_type": "code",
   "execution_count": 6,
   "metadata": {},
   "outputs": [
    {
     "ename": "AttributeError",
     "evalue": "module 'qutip' has no attribute 'QuantumCircuit'",
     "output_type": "error",
     "traceback": [
      "\u001b[1;31m---------------------------------------------------------------------------\u001b[0m",
      "\u001b[1;31mAttributeError\u001b[0m                            Traceback (most recent call last)",
      "Cell \u001b[1;32mIn[6], line 12\u001b[0m\n\u001b[0;32m      9\u001b[0m wc \u001b[38;5;241m=\u001b[39m \u001b[38;5;241m2.0\u001b[39m \u001b[38;5;241m*\u001b[39m np\u001b[38;5;241m.\u001b[39mpi \u001b[38;5;241m*\u001b[39m \u001b[38;5;241m6.0\u001b[39m \u001b[38;5;241m*\u001b[39m \u001b[38;5;241m1e9\u001b[39m  \u001b[38;5;66;03m# resonance frequency of the coupling resonator\u001b[39;00m\n\u001b[0;32m     11\u001b[0m \u001b[38;5;66;03m# Construct the quantum circuit\u001b[39;00m\n\u001b[1;32m---> 12\u001b[0m qc \u001b[38;5;241m=\u001b[39m \u001b[43mqt\u001b[49m\u001b[38;5;241;43m.\u001b[39;49m\u001b[43mQuantumCircuit\u001b[49m(N)\n\u001b[0;32m     13\u001b[0m qc\u001b[38;5;241m.\u001b[39madd_gate(\u001b[38;5;124m'\u001b[39m\u001b[38;5;124mcx\u001b[39m\u001b[38;5;124m'\u001b[39m, \u001b[38;5;241m0\u001b[39m, \u001b[38;5;241m1\u001b[39m)\n\u001b[0;32m     15\u001b[0m \u001b[38;5;66;03m# Construct the SCQubitsProcessor\u001b[39;00m\n",
      "\u001b[1;31mAttributeError\u001b[0m: module 'qutip' has no attribute 'QuantumCircuit'"
     ]
    }
   ],
   "source": [
    "import numpy as np\n",
    "import qutip as qt\n",
    "\n",
    "# Define the system\n",
    "N = 2  # number of qubits\n",
    "w0 = 2.0 * np.pi * 5.0 * 1e9  # resonance frequency of each qubit\n",
    "g = 2.0 * np.pi * 100 * 1e6  # coupling coefficient\n",
    "alpha = -2.0 * np.pi * 200 * 1e6  # anharmonicity of each qubit\n",
    "wc = 2.0 * np.pi * 6.0 * 1e9  # resonance frequency of the coupling resonator\n",
    "\n",
    "# Construct the quantum circuit\n",
    "qc = qt.QuantumCircuit(N)\n",
    "qc.add_gate('cx', 0, 1)\n",
    "\n",
    "# Construct the SCQubitsProcessor\n",
    "processor = qt.SCQubits(N, w0, alpha, g, wc)\n",
    "\n",
    "# Set up the drift Hamiltonian\n",
    "processor._set_up_drift()\n",
    "\n",
    "# Construct the Hamiltonian\n",
    "H = processor.H\n",
    "\n",
    "# Define the initial state\n",
    "psi0 = qt.tensor(qt.basis(2, 0), qt.basis(2, 0))\n",
    "\n",
    "# Define the time evolution\n",
    "t = np.linspace(0, 100, 1000)\n",
    "\n",
    "# Evolve the system\n",
    "result = qt.mesolve(H, psi0, t, [], [])\n",
    "\n",
    "# Plot the results\n",
    "import matplotlib.pyplot as plt\n",
    "plt.plot(t, np.real(result.expect[0]))\n",
    "plt.xlabel('Time (ns)')\n",
    "plt.ylabel('Probability')\n",
    "plt.show()"
   ]
  }
 ],
 "metadata": {
  "kernelspec": {
   "display_name": ".venv",
   "language": "python",
   "name": "python3"
  },
  "language_info": {
   "codemirror_mode": {
    "name": "ipython",
    "version": 3
   },
   "file_extension": ".py",
   "mimetype": "text/x-python",
   "name": "python",
   "nbconvert_exporter": "python",
   "pygments_lexer": "ipython3",
   "version": "3.12.2"
  }
 },
 "nbformat": 4,
 "nbformat_minor": 2
}

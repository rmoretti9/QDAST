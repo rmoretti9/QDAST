{
 "cells": [
  {
   "cell_type": "code",
   "execution_count": 254,
   "metadata": {},
   "outputs": [
    {
     "name": "stdout",
     "output_type": "stream",
     "text": [
      "Static ZZ interaction: -9.108807716984302e-07 \n"
     ]
    }
   ],
   "source": [
    "import numpy as np\n",
    "import scqubits as scq\n",
    "from scqubits import HilbertSpace, InteractionTerm\n",
    "from qutip import *\n",
    "# Define system parameters (in GHz)\n",
    "EC1 = 0.250  # Charging energy of qubit 1 (GHz)\n",
    "EC2 = 0.220  # Charging energy of qubit 2 (GHz)\n",
    "EJ1 = 15.0   # Josephson energy of qubit 1 (GHz)\n",
    "EJ2 = 13.9   # Josephson energy of qubit 2 (GHz)\n",
    "freq_resonator = 7.0  # Resonator frequency (GHz)\n",
    "g1 = 0.04  # Coupling strength between qubit 1 and resonator (GHz)\n",
    "g2 = 0.02  # Coupling strength between qubit 2 and resonator (GHz)\n",
    "ncutoff = 12  # Charge basis cutoff for transmons\n",
    "truncation_level = 5  # Truncate the Hilbert space for easier diagonalization\n",
    "\n",
    "# Define Transmon qubits and the resonator\n",
    "qubit1 = scq.Transmon(EJ=EJ1, EC=EC1, ng=0.0, ncut=ncutoff, truncated_dim=truncation_level)\n",
    "qubit2 = scq.Transmon(EJ=EJ2, EC=EC2, ng=0.0, ncut=ncutoff, truncated_dim=truncation_level)\n",
    "resonator = scq.Oscillator(E_osc=freq_resonator, truncated_dim=truncation_level)\n",
    "\n",
    "# Define the Hilbert space\n",
    "hilbertspace = HilbertSpace([qubit1, qubit2, resonator])\n",
    "N = 5  # Number of resonator photon states (Fock basis)\n",
    "levels_q1 = 5  # Number of transmon levels for qubit 1\n",
    "levels_q2 = 5  # Number of transmon levels for qubit 2\n",
    "\n",
    "# Operators for the resonator\n",
    "a = tensor(qeye(levels_q1), qeye(levels_q2), destroy(N))  # resonator annihilation operator\n",
    "\n",
    "# Operators for transmon qubit 1 (as a multi-level system)\n",
    "n_q1 = tensor(num(levels_q1), qeye(levels_q2), qeye(N))  # Number operator for qubit 1\n",
    "sm_q1 = tensor(destroy(levels_q1), qeye(levels_q2), qeye(N))  # Lowering operator for qubit 1\n",
    "\n",
    "# Operators for transmon qubit 2 (as a multi-level system)\n",
    "n_q2 = tensor(qeye(levels_q1), num(levels_q2), qeye(N))  # Number operator for qubit 2\n",
    "sm_q2 = tensor(qeye(levels_q1), destroy(levels_q2), qeye(N))  # Lowering operator for qubit 2\n",
    "\n",
    "# Interaction Hamiltonians (Jaynes-Cummings type)\n",
    "H_int1 = g1 * (sm_q1 * a.dag() + sm_q1.dag() * a)  # Interaction between qubit 1 and resonator\n",
    "H_int2 = g2 * (sm_q2 * a.dag() + sm_q2.dag() * a)  # Interaction between qubit 2 and resonator\n",
    "\n",
    "hilbertspace.add_interaction(\n",
    "    qobj = H_int1 + H_int2\n",
    ")\n",
    "hilbertspace.generate_lookup()\n",
    "\n",
    "# Calculate energy differences for qubit states\n",
    "E_00 = hilbertspace.energy_by_bare_index((0,0,0), subtract_ground = True)  # Ground state (|00⟩)\n",
    "E_01 = hilbertspace.energy_by_bare_index((0,1,0), subtract_ground = True)  # Qubit 1 in ground state, qubit 2 in excited state (|01⟩)\n",
    "E_10 = hilbertspace.energy_by_bare_index((1,0,0), subtract_ground = True)  # Qubit 1 in excited state, qubit 2 in ground state (|10⟩)\n",
    "E_11 = hilbertspace.energy_by_bare_index((1,1,0), subtract_ground = True)  # Both qubits in excited state (|11⟩)\n",
    "\n",
    "\n",
    "# Calculate the ZZ interaction\n",
    "ZZ_interaction = (E_11 - E_10 - E_01)\n",
    "\n",
    "# Display the results\n",
    "print(f\"Static ZZ interaction: {ZZ_interaction} \")  # Convert from GHz to MHz\n"
   ]
  },
  {
   "cell_type": "code",
   "execution_count": 255,
   "metadata": {},
   "outputs": [],
   "source": [
    "def ZZ(J, d1, d2, D, W):\n",
    "    factor = J**2/2/(d1 + D)**2\n",
    "    A = 2*(d1 + D)*(d1 + d2)/(D - d2)\n",
    "    B =  ( (d1**3 - 2*d1*D**2 - 2*D**3)/(d1*D**2*(d2-D))\n",
    "          + 1/2*(4*(3*d1+D)*(d1**2+d1*D+D**2)/(D**2*(2*d1+D)**2) - 16*D/(3*d1**2+8*d1*D+4*D**2) )\n",
    "          + 2*d1/(D*d2)\n",
    "          - 2*(d1+D)/(d1+D-d2)**2\n",
    "          - 2*(d1+D)/d1/(d1+D-d2)\n",
    "\n",
    "         )*W**2\n",
    "    \n",
    "    return (factor*A, factor*B )\n",
    "\n",
    "def ZZ_alt(J, d1, d2, D, W):\n",
    "    xi = - J**2 * (d1 + d2) / (D+d1) / (d2 - D)\n",
    "    return xi "
   ]
  },
  {
   "cell_type": "code",
   "execution_count": 258,
   "metadata": {},
   "outputs": [
    {
     "data": {
      "text/plain": [
       "-5.250595235100529e-07"
      ]
     },
     "execution_count": 258,
     "metadata": {},
     "output_type": "execute_result"
    }
   ],
   "source": [
    "w1 = hilbertspace.energy_by_bare_index((1,0,0), subtract_ground = True)\n",
    "w2 = hilbertspace.energy_by_bare_index((0,1,0), subtract_ground = True)\n",
    "D = w1 - w2\n",
    "d1 = qubit1.anharmonicity()\n",
    "d2 = qubit2.anharmonicity()\n",
    "J = 0.5 * g1*g2*(w1 + w2 - 2*freq_resonator)/ (w1 - freq_resonator) / (w2 - freq_resonator)\n",
    "ZZ(J, d1, d2, D, 0)[0]"
   ]
  },
  {
   "cell_type": "code",
   "execution_count": 260,
   "metadata": {},
   "outputs": [
    {
     "data": {
      "text/plain": [
       "-5.25059523510053e-07"
      ]
     },
     "execution_count": 260,
     "metadata": {},
     "output_type": "execute_result"
    }
   ],
   "source": [
    "ZZ_alt(J, d1, d2, D, 0)"
   ]
  },
  {
   "cell_type": "code",
   "execution_count": 3,
   "metadata": {},
   "outputs": [],
   "source": [
    "import numpy as np\n",
    "\n",
    "def calculate_ZZ_interaction(J, delta1, delta2, omega1, omega2):\n",
    "    \"\"\"\n",
    "    Estimate the ZZ interaction strength between two qubits.\n",
    "    \n",
    "    Parameters:\n",
    "    J       : Exchange coupling between qubits (in Hz)\n",
    "    delta1  : Anharmonicity of the first transmon (in Hz)\n",
    "    delta2  : Anharmonicity of the second transmon (in Hz)\n",
    "    omega1  : Frequency of the first qubit (in Hz)\n",
    "    omega2  : Frequency of the second qubit (in Hz)\n",
    "    \n",
    "    Returns:\n",
    "    xi_ZZ   : Estimated ZZ interaction strength (in Hz)\n",
    "    \"\"\"\n",
    "    # Calculate qubit detuning (difference in frequencies)\n",
    "    delta_omega = omega1 - omega2\n",
    "    \n",
    "    # Calculate the ZZ interaction strength using the perturbative formula\n",
    "    xi_ZZ = - (J**2 * (delta1 + delta2)) / ((delta_omega + delta1) * (delta2 - delta_omega))\n",
    "    \n",
    "    return xi_ZZ\n"
   ]
  },
  {
   "cell_type": "code",
   "execution_count": 32,
   "metadata": {},
   "outputs": [
    {
     "name": "stdout",
     "output_type": "stream",
     "text": [
      "Exchange coupling J: -8.53e-04 Hz\n"
     ]
    },
    {
     "ename": "NameError",
     "evalue": "name 'd1' is not defined",
     "output_type": "error",
     "traceback": [
      "\u001b[1;31m---------------------------------------------------------------------------\u001b[0m",
      "\u001b[1;31mNameError\u001b[0m                                 Traceback (most recent call last)",
      "Cell \u001b[1;32mIn[32], line 34\u001b[0m\n\u001b[0;32m     30\u001b[0m J \u001b[38;5;241m=\u001b[39m calculate_J(g1, g2, omega1, omega2, omega_r)\n\u001b[0;32m     33\u001b[0m \u001b[38;5;28mprint\u001b[39m(\u001b[38;5;124mf\u001b[39m\u001b[38;5;124m\"\u001b[39m\u001b[38;5;124mExchange coupling J: \u001b[39m\u001b[38;5;132;01m{\u001b[39;00mJ\u001b[38;5;132;01m:\u001b[39;00m\u001b[38;5;124m.2e\u001b[39m\u001b[38;5;132;01m}\u001b[39;00m\u001b[38;5;124m Hz\u001b[39m\u001b[38;5;124m\"\u001b[39m)\n\u001b[1;32m---> 34\u001b[0m zz_interaction \u001b[38;5;241m=\u001b[39m calculate_ZZ_interaction(J, \u001b[43md1\u001b[49m, d2, omega1, omega2)\n\u001b[0;32m     35\u001b[0m \u001b[38;5;28mprint\u001b[39m(\u001b[38;5;124mf\u001b[39m\u001b[38;5;124m\"\u001b[39m\u001b[38;5;124mEstimated ZZ interaction strength: \u001b[39m\u001b[38;5;132;01m{\u001b[39;00mzz_interaction\u001b[38;5;132;01m:\u001b[39;00m\u001b[38;5;124m.2e\u001b[39m\u001b[38;5;132;01m}\u001b[39;00m\u001b[38;5;124m Hz\u001b[39m\u001b[38;5;124m\"\u001b[39m)\n",
      "\u001b[1;31mNameError\u001b[0m: name 'd1' is not defined"
     ]
    }
   ],
   "source": [
    "def calculate_J(g1, g2, omega1, omega2, omega_r):\n",
    "    \"\"\"\n",
    "    Calculate the exchange coupling J between two transmons.\n",
    "    \n",
    "    Parameters:\n",
    "    g1       : Coupling strength between the first transmon and the resonator (in Hz)\n",
    "    g2       : Coupling strength between the second transmon and the resonator (in Hz)\n",
    "    omega1   : Frequency of the first transmon (in Hz)\n",
    "    omega2   : Frequency of the second transmon (in Hz)\n",
    "    omega_r  : Frequency of the resonator (in Hz)\n",
    "    \n",
    "    Returns:\n",
    "    J        : Exchange coupling (in Hz)\n",
    "    \"\"\"\n",
    "    numerator = g1 * g2 * (omega1 + omega2 - 2 * omega_r)\n",
    "    denominator = 2 * (omega1 - omega_r) * (omega2 - omega_r)\n",
    "    \n",
    "    # Calculate the exchange coupling J\n",
    "    J = numerator / denominator\n",
    "    return J\n",
    "\n",
    "# Example values (in Hz)\n",
    "g1 = 0.05      # Coupling strength between the first transmon and resonator (Hz)\n",
    "g2 = 0.06     # Coupling strength between the second transmon and resonator (Hz)\n",
    "omega1 = w1  # Frequency of the first transmon (Hz)\n",
    "omega2 = w2   # Frequency of the second transmon (Hz)\n",
    "omega_r = freq_resonator   # Frequency of the resonator (Hz)\n",
    "\n",
    "# Calculate the exchange coupling J\n",
    "J = calculate_J(g1, g2, omega1, omega2, omega_r)\n",
    "\n",
    "\n",
    "print(f\"Exchange coupling J: {J:.2e} Hz\")\n",
    "zz_interaction = calculate_ZZ_interaction(J, d1, d2, omega1, omega2)\n",
    "print(f\"Estimated ZZ interaction strength: {zz_interaction:.2e} Hz\")"
   ]
  },
  {
   "cell_type": "code",
   "execution_count": 73,
   "metadata": {},
   "outputs": [
    {
     "name": "stdout",
     "output_type": "stream",
     "text": [
      "Lowest eigenvalues (energy levels): [-3.81809061e-04  4.81855219e+00  5.21244434e+00  9.39097366e+00\n",
      "  1.00313715e+01]\n"
     ]
    }
   ],
   "source": [
    "import numpy as np\n",
    "from scipy.linalg import eigh\n",
    "\n",
    "# Define system parameters\n",
    "omega_t1 = w1  # Frequency of first transmon in GHz\n",
    "omega_t2 = w2  # Frequency of second transmon in GHz\n",
    "omega_r = freq_resonator   # Resonator frequency in GHz\n",
    "anharmonicity1 = d1  # Anharmonicity of both transmons\n",
    "anharmonicity2 = d2\n",
    "# Define the number of energy levels to consider for each system\n",
    "n_levels = 3\n",
    "\n",
    "# Create operators for the transmon and resonator\n",
    "def create_operators(n):\n",
    "    a = np.diag(np.sqrt(np.arange(1, n)), 1)  # Lowering operator\n",
    "    n_op = np.diag(np.arange(n))  # Number operator\n",
    "    return a, n_op\n",
    "\n",
    "a_t1, n_t1 = create_operators(n_levels)  # Transmon 1 operators\n",
    "a_t2, n_t2 = create_operators(n_levels)  # Transmon 2 operators\n",
    "a_r, n_r = create_operators(n_levels)    # Resonator operators\n",
    "\n",
    "# Create identity matrices\n",
    "I_t1 = np.eye(n_levels)\n",
    "I_t2 = np.eye(n_levels)\n",
    "I_r = np.eye(n_levels)\n",
    "\n",
    "# Define Hamiltonians for each subsystem\n",
    "H_t1 = omega_t1 * np.kron(np.kron(n_t1, I_t2), I_r) + (anharmonicity1/ 2) * np.kron(np.kron(n_t1 @ (n_t1 - I_t1), I_t2), I_r)\n",
    "H_t2 = omega_t2 * np.kron(np.kron(I_t1, n_t2), I_r) + (anharmonicity2 / 2) * np.kron(np.kron(I_t1, n_t2 @ (n_t2 - I_t2)), I_r)\n",
    "H_r = omega_r * np.kron(np.kron(I_t1, I_t2), n_r)\n",
    "\n",
    "# Interaction terms (Jaynes-Cummings type coupling)\n",
    "H_int1 = g1 * (np.kron(np.kron(a_t1 + a_t1.T, I_t2), a_r + a_r.T))\n",
    "H_int2 = g2 * (np.kron(np.kron(I_t1, a_t2 + a_t2.T), a_r + a_r.T))\n",
    "\n",
    "# Total Hamiltonian\n",
    "H_total = H_t1 + H_t2 + H_r + H_int1 + H_int2\n",
    "\n",
    "# Diagonalize the full Hamiltonian\n",
    "eigenvalues, eigenstates = eigh(H_total)\n",
    "\n",
    "# Print the lowest few eigenvalues\n",
    "print(\"Lowest eigenvalues (energy levels):\", eigenvalues[:5])\n"
   ]
  },
  {
   "cell_type": "code",
   "execution_count": 74,
   "metadata": {},
   "outputs": [
    {
     "data": {
      "text/plain": [
       "array([ 0.        ,  4.818934  ,  5.21282614,  9.39135547, 10.03175331,\n",
       "       10.14323658, 11.00063276, 14.60417682, 14.96216854, 15.81951524,\n",
       "       16.21341356, 19.53458503, 20.39097668, 21.03229023, 21.14308253,\n",
       "       22.00240979, 25.60375398, 25.96196424, 26.82368664, 27.21692206,\n",
       "       30.5334206 , 31.39441346, 32.03816965, 32.14610553, 36.60890699,\n",
       "       36.96737359, 41.53808169])"
      ]
     },
     "execution_count": 74,
     "metadata": {},
     "output_type": "execute_result"
    }
   ],
   "source": [
    "eigenvalues - eigenvalues[0]"
   ]
  },
  {
   "cell_type": "code",
   "execution_count": 75,
   "metadata": {},
   "outputs": [
    {
     "data": {
      "text/plain": [
       "array([ 0.        ,  4.81975245,  5.21341662,  9.39242221, 10.03315747,\n",
       "       10.1440395 ])"
      ]
     },
     "execution_count": 75,
     "metadata": {},
     "output_type": "execute_result"
    }
   ],
   "source": [
    "hilbertspace.eigenvals() - hilbertspace.eigenvals()[0]"
   ]
  },
  {
   "cell_type": "code",
   "execution_count": 98,
   "metadata": {},
   "outputs": [
    {
     "name": "stdout",
     "output_type": "stream",
     "text": [
      "ZZ coupling (Exact Diagonalization): -0.4300026410042932\n",
      "ZZ coupling (Analytical): -1.0575774769112515e-12\n"
     ]
    }
   ],
   "source": [
    "import numpy as np\n",
    "from scipy.linalg import eigh\n",
    "\n",
    "# Define system parameters\n",
    "omega_t1 = 5.0  # Frequency of first transmon in GHz\n",
    "omega_t2 = 4.9  # Frequency of second transmon in GHz\n",
    "omega_r = 14.3   # Resonator frequency in GHz\n",
    "g1 = 0.01        # Coupling strength of transmon 1 to resonator\n",
    "g2 = 0.011       # Coupling strength of transmon 2 to resonator\n",
    "anharmonicity = -0.33  # Anharmonicity of both transmons\n",
    "\n",
    "# Define the number of energy levels to consider for each system\n",
    "n_levels = 5\n",
    "\n",
    "# Create operators for the transmon and resonator\n",
    "def create_operators(n):\n",
    "    a = np.diag(np.sqrt(np.arange(1, n)), 1)  # Lowering operator\n",
    "    n_op = np.diag(np.arange(n))  # Number operator\n",
    "    return a, n_op\n",
    "\n",
    "a_t1, n_t1 = create_operators(n_levels)  # Transmon 1 operators\n",
    "a_t2, n_t2 = create_operators(n_levels)  # Transmon 2 operators\n",
    "a_r, n_r = create_operators(n_levels)    # Resonator operators\n",
    "\n",
    "# Create identity matrices\n",
    "I_t1 = np.eye(n_levels)\n",
    "I_t2 = np.eye(n_levels)\n",
    "I_r = np.eye(n_levels)\n",
    "\n",
    "# Define Hamiltonians for each subsystem\n",
    "H_t1 = omega_t1 * np.kron(np.kron(n_t1, I_t2), I_r) + (anharmonicity / 2) * np.kron(np.kron(n_t1 @ (n_t1 - I_t1), I_t2), I_r)\n",
    "H_t2 = omega_t2 * np.kron(np.kron(I_t1, n_t2), I_r) + (anharmonicity / 2) * np.kron(np.kron(I_t1, n_t2 @ (n_t2 - I_t2)), I_r)\n",
    "H_r = omega_r * np.kron(np.kron(I_t1, I_t2), n_r)\n",
    "\n",
    "# Interaction terms (Jaynes-Cummings type coupling)\n",
    "H_int1 = g1 * (np.kron(np.kron(a_t1 + a_t1.T, I_t2), a_r + a_r.T))\n",
    "H_int2 = g2 * (np.kron(np.kron(I_t1, a_t2 + a_t2.T), a_r + a_r.T))\n",
    "\n",
    "# Total Hamiltonian\n",
    "H_total = H_t1 + H_t2 + H_r + H_int1 + H_int2\n",
    "\n",
    "# Diagonalize the full Hamiltonian\n",
    "eigenvalues, eigenstates = eigh(H_total)\n",
    "\n",
    "# Extract relevant energy eigenvalues corresponding to |00>, |01>, |10>, |11> states\n",
    "# Assuming that the lowest energy states correspond to the computational basis |00>, |01>, |10>, |11>\n",
    "E00 = eigenvalues[0]  # Ground state (|00>)\n",
    "E01 = eigenvalues[1]  # First excited state (|01>)\n",
    "E10 = eigenvalues[2]  # Second excited state (|10>)\n",
    "E11 = eigenvalues[3]  # Third excited state (|11>)\n",
    "\n",
    "# Calculate the ZZ interaction from energy differences\n",
    "ZZ_exact = (E11 - E10) - (E01 - E00)\n",
    "\n",
    "print(\"ZZ coupling (Exact Diagonalization):\", ZZ_exact)\n",
    "\n",
    "# Analytical ZZ coupling based on the paper's formula (Eq. 4.5)\n",
    "delta1 = anharmonicity\n",
    "delta2 = anharmonicity\n",
    "Delta1 = omega_t1 - omega_r\n",
    "Delta2 = omega_t2 - omega_r\n",
    "J = g1 * g2 * (omega_t1 + omega_t2 - 2 * omega_r) / (2 * (omega_t1 - omega_r) * (omega_t2 - omega_r))\n",
    "\n",
    "ZZ_analytical = -J**2 * (delta1 + delta2) / ((Delta1 + delta1) * (delta2 - Delta1))\n",
    "\n",
    "print(\"ZZ coupling (Analytical):\", ZZ_analytical)\n"
   ]
  },
  {
   "cell_type": "code",
   "execution_count": 189,
   "metadata": {},
   "outputs": [],
   "source": [
    "import numpy as np\n",
    "from qutip import *\n",
    "\n",
    "# System parameters\n",
    "omega_r = 7.0  # Resonator frequency (GHz)\n",
    "omega_q1 = 4.0  # Qubit 1 frequency (GHz)\n",
    "omega_q2 = 4.1  # Qubit 2 frequency (GHz)\n",
    "g1 = 0.02  # Coupling strength between resonator and qubit 1 (GHz)\n",
    "g2 = 0.012  # Coupling strength between resonator and qubit 2 (GHz)\n",
    "alpha1 = 0.3  # Anharmonicity for qubit 1 (GHz)\n",
    "alpha2 = 0.35  # Anharmonicity for qubit 2 (GHz)\n",
    "\n",
    "N = 3  # Number of resonator photon states (Fock basis)\n",
    "levels_q1 = 5  # Number of transmon levels for qubit 1\n",
    "levels_q2 = 5  # Number of transmon levels for qubit 2\n",
    "\n",
    "# Operators for the resonator\n",
    "a = tensor(destroy(N), qeye(levels_q1), qeye(levels_q2))  # resonator annihilation operator\n",
    "\n",
    "# Operators for transmon qubit 1 (as a multi-level system)\n",
    "n_q1 = tensor(qeye(N), num(levels_q1), qeye(levels_q2))  # Number operator for qubit 1\n",
    "sm_q1 = tensor(qeye(N), destroy(levels_q1), qeye(levels_q2))  # Lowering operator for qubit 1\n",
    "\n",
    "# Operators for transmon qubit 2 (as a multi-level system)\n",
    "n_q2 = tensor(qeye(N), qeye(levels_q1), num(levels_q2))  # Number operator for qubit 2\n",
    "sm_q2 = tensor(qeye(N), qeye(levels_q1), destroy(levels_q2))  # Lowering operator for qubit 2\n",
    "\n",
    "# Hamiltonian terms\n",
    "\n",
    "# Resonator energy: H_r = hbar * omega_r * a† * a\n",
    "H_r = omega_r * a.dag() * a\n",
    "\n",
    "# Transmon qubit 1 energy including anharmonicity: H_q1 = omega_q1 * n_q1 - alpha1 * n_q1 * (n_q1 - 1)\n",
    "H_q1 = omega_q1 * n_q1 - 0.5 * alpha1 * n_q1 * (n_q1 - 1)\n",
    "\n",
    "# Transmon qubit 2 energy including anharmonicity: H_q2 = omega_q2 * n_q2 - alpha2 * n_q2 * (n_q2 - 1)\n",
    "H_q2 = omega_q2 * n_q2 - 0.5 * alpha2 * n_q2 * (n_q2 - 1)\n",
    "\n",
    "# Interaction Hamiltonians (Jaynes-Cummings type)\n",
    "H_int1 = g1 * (sm_q1 * a.dag() + sm_q1.dag() * a)  # Interaction between qubit 1 and resonator\n",
    "H_int2 = g2 * (sm_q2 * a.dag() + sm_q2.dag() * a)  # Interaction between qubit 2 and resonator\n",
    "\n",
    "# Total Hamiltonian\n",
    "H_total = H_r + H_q1 + H_q2 + H_int1 + H_int2\n",
    "\n",
    "eig = H_total.eigenenergies()\n",
    "eig = eig - eig[0]\n",
    "\n"
   ]
  },
  {
   "cell_type": "code",
   "execution_count": 190,
   "metadata": {},
   "outputs": [
    {
     "data": {
      "text/plain": [
       "array([ 0.        ,  3.99986661,  4.09995041,  7.00018298,  7.69975756,\n",
       "        7.84991134,  8.0998171 , 11.00002535, 11.09966666, 11.1001227 ,\n",
       "       11.24987998, 11.79970753, 11.84977852, 14.00036595, 14.19958974,\n",
       "       14.29985416, 14.69989815, 14.85007606, 15.09996517, 15.19961696,\n",
       "       15.2497466 , 15.54966916, 18.00058382, 18.0997933 , 18.10044412,\n",
       "       18.25003914, 18.29954004, 18.29972079, 18.79983747, 18.84991904,\n",
       "       18.94940569, 18.94981008, 21.19922931, 21.2998417 , 21.70076573,\n",
       "       21.85050642, 21.99961162, 22.04950097, 22.10066228, 22.19973297,\n",
       "       22.24988158, 22.34954699, 22.54979156, 25.10091951, 25.25055813,\n",
       "       25.29916899, 25.29968416, 25.39951965, 25.44947094, 25.8008421 ,\n",
       "       25.85072654, 25.94951781, 25.9499233 , 28.2000992 , 28.30026655,\n",
       "       28.4994439 , 28.99955688, 29.04912239, 29.20099721, 29.25077603,\n",
       "       29.34964994, 29.55090719, 32.30017696, 32.30048454, 32.39945099,\n",
       "       32.44908685, 32.95060627, 32.95141245, 35.49888816, 36.00066597,\n",
       "       36.05023928, 36.35111301, 39.40081545, 39.4502964 , 42.5       ])"
      ]
     },
     "execution_count": 190,
     "metadata": {},
     "output_type": "execute_result"
    }
   ],
   "source": [
    "eig"
   ]
  },
  {
   "cell_type": "code",
   "execution_count": 191,
   "metadata": {},
   "outputs": [
    {
     "data": {
      "text/plain": [
       "7.6470259902095e-08"
      ]
     },
     "execution_count": 191,
     "metadata": {},
     "output_type": "execute_result"
    }
   ],
   "source": [
    "eig[6] - eig[2] - eig[1]"
   ]
  },
  {
   "cell_type": "code",
   "execution_count": 192,
   "metadata": {},
   "outputs": [
    {
     "data": {
      "text/plain": [
       "4.304684898929843e-08"
      ]
     },
     "execution_count": 192,
     "metadata": {},
     "output_type": "execute_result"
    }
   ],
   "source": [
    "# Calculate the exchange coupling J\n",
    "J = calculate_J(g1, g2, omega_q1, omega_q2, omega_r)\n",
    "zz_interaction = calculate_ZZ_interaction(J, -alpha1, -alpha2, omega_q1, omega_q2)\n",
    "zz_interaction"
   ]
  },
  {
   "cell_type": "code",
   "execution_count": 61,
   "metadata": {},
   "outputs": [
    {
     "name": "stdout",
     "output_type": "stream",
     "text": [
      "Numerical ZZ interaction: 9.984457165046479e-06 GHz\n",
      "Analytical ZZ interaction: 1.0749103567644193e-05 GHz\n"
     ]
    }
   ],
   "source": [
    "import numpy as np\n",
    "import scqubits as scq\n",
    "from scqubits import HilbertSpace, InteractionTerm\n",
    "from qutip import *\n",
    "# Define system parameters (in GHz)\n",
    "EC1 = 0.215227  # Charging energy of qubit 1 (GHz)\n",
    "EC2 = 0.215227  # Charging energy of qubit 2 (GHz)\n",
    "EJ1 = 10.8888   # Josephson energy of qubit 1 (GHz)\n",
    "EJ2 = 10.3425    # Josephson energy of qubit 2 (GHz)\n",
    "freq_resonator = 7.5  # Resonator frequency (GHz)\n",
    "g1 = 0.05  # Coupling strength between qubit 1 and resonator (GHz)\n",
    "g2 = 0.05  # Coupling strength between qubit 2 and resonator (GHz)\n",
    "ncutoff = 5  # Charge basis cutoff for transmons\n",
    "truncation_level = 5  # Truncate the Hilbert space for easier diagonalization\n",
    "\n",
    "# Define Transmon qubits and the resonator\n",
    "qubit1 = scq.Transmon(EJ=EJ1, EC=EC1, ng=0.0, ncut=ncutoff, truncated_dim=truncation_level)\n",
    "qubit2 = scq.Transmon(EJ=EJ2, EC=EC2, ng=0.0, ncut=ncutoff, truncated_dim=truncation_level)\n",
    "resonator = scq.Oscillator(E_osc=freq_resonator, truncated_dim=truncation_level)\n",
    "\n",
    "# Define the Hilbert space\n",
    "hilbertspace = HilbertSpace([qubit1, qubit2, resonator])\n",
    "N =5  # Number of resonator photon states (Fock basis)\n",
    "levels_q1 = 5  # Number of transmon levels for qubit 1\n",
    "levels_q2 = 5  # Number of transmon levels for qubit 2\n",
    "\n",
    "# Operators for the resonator\n",
    "a = tensor(qeye(levels_q1), qeye(levels_q2), destroy(N))  # resonator annihilation operator\n",
    "\n",
    "# Operators for transmon qubit 1 (as a multi-level system)\n",
    "n_q1 = tensor(num(levels_q1), qeye(levels_q2), qeye(N))  # Number operator for qubit 1\n",
    "sm_q1 = tensor(destroy(levels_q1), qeye(levels_q2), qeye(N))  # Lowering operator for qubit 1\n",
    "\n",
    "# Operators for transmon qubit 2 (as a multi-level system)\n",
    "n_q2 = tensor(qeye(levels_q1), num(levels_q2), qeye(N))  # Number operator for qubit 2\n",
    "sm_q2 = tensor(qeye(levels_q1), destroy(levels_q2), qeye(N))  # Lowering operator for qubit 2\n",
    "\n",
    "# Interaction Hamiltonians (Jaynes-Cummings type)\n",
    "H_int1 = g1 * (sm_q1 * a.dag() + sm_q1.dag() * a)  # Interaction between qubit 1 and resonator\n",
    "H_int2 = g2 * (sm_q2 * a.dag() + sm_q2.dag() * a)  # Interaction between qubit 2 and resonator\n",
    "\n",
    "# Add interactions to the Hilbert space\n",
    "hilbertspace.add_interaction(qobj=H_int1 + H_int2)\n",
    "hilbertspace.generate_lookup()\n",
    "\n",
    "# Calculate energy differences for qubit states\n",
    "E_00 = hilbertspace.energy_by_bare_index((0, 0, 0), subtract_ground=True)  # Ground state (|00⟩)\n",
    "E_01 = hilbertspace.energy_by_bare_index((0, 1, 0), subtract_ground=True)  # |01⟩ state\n",
    "E_10 = hilbertspace.energy_by_bare_index((1, 0, 0), subtract_ground=True)  # |10⟩ state\n",
    "E_11 = hilbertspace.energy_by_bare_index((1, 1, 0), subtract_ground=True)  # |11⟩ state\n",
    "\n",
    "E_02 = hilbertspace.energy_by_bare_index((0, 2, 0), subtract_ground=True)\n",
    "E_20 = hilbertspace.energy_by_bare_index((2, 0, 0), subtract_ground=True)\n",
    "\n",
    "# Calculate the ZZ interaction numerically\n",
    "ZZ_interaction_numerical = (E_11 - E_10 - E_01)\n",
    "\n",
    "# Analytical ZZ formula\n",
    "delta1 = - E_10 + (E_20 - E_10)  # Anharmonicity of qubit 1 (GHz)\n",
    "delta2 = - E_01 + (E_02 - E_01)  # Anharmonicity of qubit 2 (GHz)\n",
    "w1 = E_10\n",
    "w2 = E_01\n",
    "J = calculate_J(g1, g2, w1, w2, freq_resonator)\n",
    "zz_interaction = calculate_ZZ_interaction(J, delta1, delta2, w1, w2)\n",
    "\n",
    "# Compare the results\n",
    "print(f\"Numerical ZZ interaction: {ZZ_interaction_numerical} GHz\")\n",
    "print(f\"Analytical ZZ interaction: {zz_interaction*2} GHz\")\n"
   ]
  },
  {
   "cell_type": "code",
   "execution_count": 59,
   "metadata": {},
   "outputs": [
    {
     "data": {
      "text/plain": [
       "nan"
      ]
     },
     "execution_count": 59,
     "metadata": {},
     "output_type": "execute_result"
    }
   ],
   "source": [
    "w1"
   ]
  },
  {
   "cell_type": "code",
   "execution_count": 54,
   "metadata": {},
   "outputs": [
    {
     "data": {
      "text/plain": [
       "-0.24483031137191524"
      ]
     },
     "execution_count": 54,
     "metadata": {},
     "output_type": "execute_result"
    }
   ],
   "source": [
    "qubit1.anharmonicity()"
   ]
  },
  {
   "cell_type": "code",
   "execution_count": 52,
   "metadata": {},
   "outputs": [
    {
     "data": {
      "text/plain": [
       "4.192401506796193"
      ]
     },
     "execution_count": 52,
     "metadata": {},
     "output_type": "execute_result"
    }
   ],
   "source": [
    "qubit2.E01()"
   ]
  },
  {
   "cell_type": "code",
   "execution_count": 53,
   "metadata": {},
   "outputs": [
    {
     "data": {
      "text/plain": [
       "4.102714317339924"
      ]
     },
     "execution_count": 53,
     "metadata": {},
     "output_type": "execute_result"
    }
   ],
   "source": [
    "qubit1.E01()"
   ]
  }
 ],
 "metadata": {
  "kernelspec": {
   "display_name": ".venv",
   "language": "python",
   "name": "python3"
  },
  "language_info": {
   "codemirror_mode": {
    "name": "ipython",
    "version": 3
   },
   "file_extension": ".py",
   "mimetype": "text/x-python",
   "name": "python",
   "nbconvert_exporter": "python",
   "pygments_lexer": "ipython3",
   "version": "3.12.2"
  }
 },
 "nbformat": 4,
 "nbformat_minor": 2
}

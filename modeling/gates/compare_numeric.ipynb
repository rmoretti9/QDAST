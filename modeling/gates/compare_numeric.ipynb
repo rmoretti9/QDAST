{
 "cells": [
  {
   "cell_type": "code",
   "execution_count": 51,
   "metadata": {},
   "outputs": [
    {
     "name": "stdout",
     "output_type": "stream",
     "text": [
      "Static ZZ interaction: 0.00011332525768548152 \n"
     ]
    }
   ],
   "source": [
    "import numpy as np\n",
    "import scqubits as scq\n",
    "from scqubits import HilbertSpace, InteractionTerm\n",
    "from qutip import tensor, destroy, qeye, num\n",
    "# Define system parameters (in GHz)\n",
    "EC1 = 0.21522476919932843  # Charging energy of qubit 1 (GHz)\n",
    "EC2 = 0.21522476919932843  # Charging energy of qubit 2 (GHz)\n",
    "EJ1 = 15.857238090360163   # Josephson energy of qubit 1 (GHz)\n",
    "EJ2 = 14.469215483725697   # Josephson energy of qubit 2 (GHz)\n",
    "freq_resonator = 8.5  # Resonator frequency (GHz)\n",
    "g1 = 0.05  # Coupling strength between qubit 1 and resonator (GHz)\n",
    "g2 = 0.05  # Coupling strength between qubit 2 and resonator (GHz)\n",
    "conversion_constant1 = -1j*(EJ1/8/EC1)**(1/4)*1/np.sqrt(2)\n",
    "conversion_constant2 = -1j*(EJ2/8/EC2)**(1/4)*1/np.sqrt(2)\n",
    "g1_k = g1/conversion_constant1\n",
    "g2_k = g2/conversion_constant2\n",
    "\n",
    "ncutoff = 9  # Charge basis cutoff for transmons\n",
    "truncation_level = 9  # Truncate the Hilbert space for easier diagonalization\n",
    "\n",
    "# Define Transmon qubits and the resonator\n",
    "qubit1 = scq.Transmon(EJ=EJ1, EC=EC1, ng=0.0, ncut=ncutoff, truncated_dim=truncation_level)\n",
    "qubit2 = scq.Transmon(EJ=EJ2, EC=EC2, ng=0.0, ncut=ncutoff, truncated_dim=truncation_level)\n",
    "resonator = scq.Oscillator(E_osc=freq_resonator, truncated_dim=truncation_level)\n",
    "\n",
    "# Define the Hilbert space\n",
    "hilbertspace = HilbertSpace([qubit1, qubit2, resonator])\n",
    "\n",
    "hilbertspace.add_interaction(\n",
    "    g = g1_k,\n",
    "    op1 = qubit1.n_operator,\n",
    "    op2 = resonator.creation_operator,\n",
    "    add_hc = True\n",
    ")\n",
    "\n",
    "hilbertspace.add_interaction(\n",
    "    g = g2_k,\n",
    "    op1 = qubit2.n_operator,\n",
    "    op2 = resonator.creation_operator,\n",
    "    add_hc = True\n",
    ")\n",
    "hilbertspace.generate_lookup()\n",
    "\n",
    "# Calculate energy differences for qubit states\n",
    "E_00 = hilbertspace.energy_by_bare_index((0,0,0), subtract_ground = True)  # Ground state (|00⟩)\n",
    "E_01 = hilbertspace.energy_by_bare_index((0,1,0), subtract_ground = True)  # Qubit 1 in ground state, qubit 2 in excited state (|01⟩)\n",
    "E_10 = hilbertspace.energy_by_bare_index((1,0,0), subtract_ground = True)  # Qubit 1 in excited state, qubit 2 in ground state (|10⟩)\n",
    "E_11 = hilbertspace.energy_by_bare_index((1,1,0), subtract_ground = True)  # Both qubits in excited state (|11⟩)\n",
    "\n",
    "E_02 = hilbertspace.energy_by_bare_index((0,2,0), subtract_ground = True)\n",
    "E_20 = hilbertspace.energy_by_bare_index((2,0,0), subtract_ground = True)\n",
    "\n",
    "# Calculate the ZZ interaction\n",
    "ZZ_interaction = (E_11 - E_10 - E_01)\n",
    "\n",
    "# Display the results\n",
    "print(f\"Static ZZ interaction: {ZZ_interaction} \")  # Convert from GHz to MHz"
   ]
  },
  {
   "cell_type": "code",
   "execution_count": 52,
   "metadata": {},
   "outputs": [],
   "source": [
    "def ZZ(J, d1, d2, D, W):\n",
    "    zz = J**2 * (d1 + d2) / (D + d1) / (D - d2)\n",
    "    \n",
    "    return zz\n",
    "\n",
    "def calculate_J(g1, g2, omega1, omega2, omega_r):\n",
    "    numerator = g1 * g2 * (omega1 + omega2 - 2 * omega_r)\n",
    "    denominator = 2 * (omega1 - omega_r) * (omega2 - omega_r)\n",
    "    J = numerator / denominator\n",
    "    return J"
   ]
  },
  {
   "cell_type": "code",
   "execution_count": 53,
   "metadata": {},
   "outputs": [
    {
     "name": "stdout",
     "output_type": "stream",
     "text": [
      "8.65732757680709e-05\n"
     ]
    }
   ],
   "source": [
    "a1 = qubit1.anharmonicity() #E_20 - 2*E_10 \n",
    "a2 = qubit2.anharmonicity() \n",
    "w1 = qubit1.E01()\n",
    "w2 = qubit2.E01()\n",
    "D = w1 - w2\n",
    "J = calculate_J(g1, g2, w1, w2, freq_resonator)\n",
    "zz = ZZ(J, a1, a2, D, 0)\n",
    "print(zz)"
   ]
  },
  {
   "cell_type": "code",
   "execution_count": 39,
   "metadata": {},
   "outputs": [
    {
     "data": {
      "text/plain": [
       "-0.000378874856494593"
      ]
     },
     "execution_count": 39,
     "metadata": {},
     "output_type": "execute_result"
    }
   ],
   "source": [
    "J"
   ]
  },
  {
   "cell_type": "code",
   "execution_count": 40,
   "metadata": {},
   "outputs": [
    {
     "data": {
      "text/plain": [
       "(0.05, 0.05, 5.000000000263521, 4.799999999999988, 11.5)"
      ]
     },
     "execution_count": 40,
     "metadata": {},
     "output_type": "execute_result"
    }
   ],
   "source": [
    "g1, g2, w1, w2, freq_resonator"
   ]
  },
  {
   "cell_type": "code",
   "execution_count": 41,
   "metadata": {},
   "outputs": [],
   "source": [
    "def ZZ(J, d1, d2, D, W):\n",
    "    zz = J**2 * (d1 + d2) / (D + d1) / (D - d2)\n",
    "    \n",
    "    return zz\n",
    "\n",
    "def calculate_J(g1, g2, omega1, omega2, omega_r):\n",
    "    numerator = g1 * g2 * (omega1 + omega2 - 2 * omega_r)\n",
    "    denominator = 2 * (omega1 - omega_r) * (omega2 - omega_r)\n",
    "    J = numerator / denominator\n",
    "    return J"
   ]
  },
  {
   "cell_type": "code",
   "execution_count": null,
   "metadata": {},
   "outputs": [],
   "source": []
  }
 ],
 "metadata": {
  "kernelspec": {
   "display_name": ".venv",
   "language": "python",
   "name": "python3"
  },
  "language_info": {
   "codemirror_mode": {
    "name": "ipython",
    "version": 3
   },
   "file_extension": ".py",
   "mimetype": "text/x-python",
   "name": "python",
   "nbconvert_exporter": "python",
   "pygments_lexer": "ipython3",
   "version": "3.12.5"
  }
 },
 "nbformat": 4,
 "nbformat_minor": 2
}

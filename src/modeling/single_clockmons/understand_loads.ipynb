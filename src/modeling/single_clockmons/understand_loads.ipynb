{
 "cells": [
  {
   "cell_type": "code",
   "execution_count": 6,
   "metadata": {},
   "outputs": [],
   "source": [
    "import skrf as rf\n",
    "from math import pi\n",
    "from skrf.media.cpw import CPW\n",
    "import pandas as pd\n",
    "import numpy as np\n",
    "import matplotlib.pyplot as plt\n",
    "from modeling.utils.resonators import cpw_cl_ll, cpw_capacitance_inductance, get_equivalent_lc, resonator_kappa\n",
    "from modeling.utils.network import assemble_network\n",
    "from modeling.utils.qubits import *\n",
    "from qucat import Network,L,J,C,R\n",
    "from modeling.clockmon.libraries.clockmon_library import clockmon_coupling_libraries, clockmon_library, clockmon_cqr_to_ground\n",
    "from modeling.smooth_capacitor.libraries.smooth_capacitor_library import digit_tee_library, digit_tee_ck_to_ground, get_ck"
   ]
  },
  {
   "cell_type": "code",
   "execution_count": 7,
   "metadata": {},
   "outputs": [],
   "source": [
    "smooth_capacitor_lib = digit_tee_library(deembed = [300, 200])\n",
    "ck_to_ground = digit_tee_ck_to_ground(deembed=[300, 200])\n",
    "clockmon_lib = clockmon_library(deembed = 200)\n",
    "cqr_to_ground = clockmon_cqr_to_ground(deembed = 200)"
   ]
  },
  {
   "cell_type": "code",
   "execution_count": 8,
   "metadata": {},
   "outputs": [],
   "source": [
    "planck_h = 6.62607015e-34\n",
    "e_charge = 1.60217663e-19\n",
    "phi0 =  2.067833848e-15 # Wb\n",
    "\n",
    "a = 10e-6\n",
    "b = 6e-6\n",
    "ep_r = 11.9\n",
    "\n",
    "nb_qubits = 4\n",
    "rr_freq_target = 7e9\n",
    "c_sigma_unloaded = 90e-15\n",
    "kappa_target = 1e6\n",
    "target_parameters = {\n",
    "    \"chi\": 0.5e6,\n",
    "    \"qubit_frequency\": 4.2e9,\n",
    "    \"rr_frequencies_target\": rr_freq_target,\n",
    "    \"c_sigma_unloaded\": c_sigma_unloaded\n",
    "}\n",
    "Z0 = CPW(w = a, s = b, ep_r = ep_r).z0[0].real\n",
    "l_r = Z0*pi/(4*pi*rr_freq_target)\n",
    "c_r = 1/((2*pi*rr_freq_target)**2*l_r)"
   ]
  },
  {
   "cell_type": "code",
   "execution_count": 9,
   "metadata": {},
   "outputs": [],
   "source": [
    "# c_qr = 1.653523031555808e-15\n",
    "# l_j = 13e-9\n",
    "# cir = Network([\n",
    "#     C(0,1,get_csigma_cqr(cmatrix)[0] -c_qr), # transmon\n",
    "#     J(0,1,'Lj'),\n",
    "#     C(0,2,c_r), # resonator\n",
    "#     L(0,2,l_r),\n",
    "#     C(1,2,c_qr), # coupling capacitor\n",
    "# ])\n",
    "# err_chi = abs(cir.kerr(Lj = l_j)[0,1] - target_parameters[\"chi\"])\n",
    "\n",
    "# H = cir.hamiltonian(modes = [0, 1],\n",
    "#                     taylor = 12,\n",
    "#                     excitations = [10, 10],\n",
    "#                     Lj = l_j)\n",
    "# ee = H.eigenenergies().real\n",
    "# ee -= ee[0]\n",
    "# print(\"qubit freq:\", ee[1])"
   ]
  },
  {
   "cell_type": "code",
   "execution_count": 10,
   "metadata": {},
   "outputs": [],
   "source": [
    "from scqubits import Transmon"
   ]
  },
  {
   "cell_type": "code",
   "execution_count": 11,
   "metadata": {},
   "outputs": [
    {
     "data": {
      "text/plain": [
       "13278758142.465513"
      ]
     },
     "execution_count": 11,
     "metadata": {},
     "output_type": "execute_result"
    }
   ],
   "source": [
    "Ic = get_Ic_from_Lj(l_j)\n",
    "EC = e_charge**2/(c_sigma_unloaded)/2/planck_h\n",
    "EC_unloaded = e_charge**2/(c_sigma_unloaded)/2/planck_h\n",
    "Ej = Ic*phi0/2/pi/planck_h"
   ]
  },
  {
   "cell_type": "code",
   "execution_count": 12,
   "metadata": {},
   "outputs": [
    {
     "data": {
      "text/plain": [
       "4555271983.166996"
      ]
     },
     "execution_count": 12,
     "metadata": {},
     "output_type": "execute_result"
    }
   ],
   "source": [
    "transmon = Transmon(EJ = Ej, EC=EC, ng = 0, ncut = 31)\n",
    "transmon.E01()"
   ]
  },
  {
   "cell_type": "code",
   "execution_count": 13,
   "metadata": {},
   "outputs": [
    {
     "name": "stdout",
     "output_type": "stream",
     "text": [
      "qubit freq: 4671245488.773653\n",
      "Cqr: 1.653523031555808e-15\n"
     ]
    }
   ],
   "source": [
    "cmatrix = clockmon_lib(20)\n",
    "l_j = 13e-9\n",
    "cir = Network([\n",
    "    C(0, 1, cmatrix[1,1]), # island1 to ground\n",
    "    C(0, 2, cmatrix[2,2]), #island2 to ground\n",
    "    L(1, 2, \"Lj\"), # jj\n",
    "    C(1, 2, cmatrix[1,2]), # island1 to island2\n",
    "    C(1, 3, cmatrix[0, 1]), # island1 to resonator\n",
    "    C(2, 3, cmatrix[0, 2]), # island2 to resonator\n",
    "    C(0,3,c_r), # resonator\n",
    "    L(0,3,l_r),\n",
    "])\n",
    "err_chi = abs(cir.kerr(Lj = l_j)[0,1] - target_parameters[\"chi\"])\n",
    "\n",
    "H = cir.hamiltonian(modes = [0, 1],\n",
    "                    taylor = 12,\n",
    "                    excitations = [10, 10],\n",
    "                    Lj = l_j)\n",
    "ee = H.eigenenergies().real\n",
    "ee -= ee[0]\n",
    "print(\"qubit freq:\", ee[1])\n",
    "print(\"Cqr:\", get_csigma_cqr(cmatrix)[1])"
   ]
  },
  {
   "cell_type": "code",
   "execution_count": 14,
   "metadata": {},
   "outputs": [
    {
     "name": "stdout",
     "output_type": "stream",
     "text": [
      "qubit freq: 4671245488.773653\n",
      "Cqr: 1.653523031555808e-15\n"
     ]
    }
   ],
   "source": [
    "l_j = 13e-9\n",
    "cir = Network([\n",
    "    C(0, 1, cmatrix[1,1]), # island1 to ground\n",
    "    C(0, 2, cmatrix[2,2]), #island2 to ground\n",
    "    L(1, 2, \"Lj\"), # jj\n",
    "    C(1, 2, cmatrix[1,2]), # island1 to island2\n",
    "    C(1, 3, cmatrix[0, 1]), # island1 to resonator\n",
    "    C(2, 3, cmatrix[0, 2]), # island2 to resonator\n",
    "    C(0,3,c_r), # resonator\n",
    "    L(0,3,l_r),\n",
    "])\n",
    "err_chi = abs(cir.kerr(Lj = l_j)[0,1] - target_parameters[\"chi\"])\n",
    "\n",
    "H = cir.hamiltonian(modes = [0, 1],\n",
    "                    taylor = 12,\n",
    "                    excitations = [10, 10],\n",
    "                    Lj = l_j)\n",
    "ee = H.eigenenergies().real\n",
    "ee -= ee[0]\n",
    "print(\"qubit freq:\", ee[1])\n",
    "print(\"Cqr:\", get_csigma_cqr(cmatrix)[1])"
   ]
  },
  {
   "cell_type": "code",
   "execution_count": 15,
   "metadata": {},
   "outputs": [
    {
     "data": {
      "text/plain": [
       "8.928824039566648e-14"
      ]
     },
     "execution_count": 15,
     "metadata": {},
     "output_type": "execute_result"
    }
   ],
   "source": [
    "get_csigma_cqr(cmatrix)[0] #+ c_qr\n"
   ]
  },
  {
   "cell_type": "code",
   "execution_count": 16,
   "metadata": {},
   "outputs": [
    {
     "data": {
      "text/plain": [
       "8.928824039566648e-14"
      ]
     },
     "execution_count": 16,
     "metadata": {},
     "output_type": "execute_result"
    }
   ],
   "source": [
    "cmatrix[1,2] + (1/ (cmatrix[1,1] + cmatrix[0, 1]) + 1 / (cmatrix[2,2] + cmatrix[0, 2]))**(-1)"
   ]
  },
  {
   "cell_type": "code",
   "execution_count": 17,
   "metadata": {},
   "outputs": [],
   "source": [
    "c_l, l_l = cpw_cl_ll(a, b, ep_r)\n",
    "resonator_waveguide_lengths = np.pi * np.sqrt((c_r * l_r) / (c_l*l_l))\n",
    "c_l_pozar = c_l * resonator_waveguide_lengths\n",
    "l_l_pozar = l_l * resonator_waveguide_lengths"
   ]
  },
  {
   "cell_type": "code",
   "execution_count": 18,
   "metadata": {},
   "outputs": [
    {
     "name": "stdout",
     "output_type": "stream",
     "text": [
      "qubit freq: 7000000000.000009\n"
     ]
    }
   ],
   "source": [
    "cir = Network([\n",
    "    C(0,3,c_r), # resonator\n",
    "    L(0,3,l_r),\n",
    "])\n",
    "\n",
    "H = cir.hamiltonian(modes = [0],\n",
    "                    taylor = 12,\n",
    "                    excitations = [10],)\n",
    "ee = H.eigenenergies().real\n",
    "ee -= ee[0]\n",
    "print(\"qubit freq:\", ee[1])"
   ]
  }
 ],
 "metadata": {
  "kernelspec": {
   "display_name": ".venv",
   "language": "python",
   "name": "python3"
  },
  "language_info": {
   "codemirror_mode": {
    "name": "ipython",
    "version": 3
   },
   "file_extension": ".py",
   "mimetype": "text/x-python",
   "name": "python",
   "nbconvert_exporter": "python",
   "pygments_lexer": "ipython3",
   "version": "3.12.2"
  }
 },
 "nbformat": 4,
 "nbformat_minor": 2
}

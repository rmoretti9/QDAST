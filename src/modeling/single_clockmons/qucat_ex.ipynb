{
 "cells": [
  {
   "cell_type": "code",
   "execution_count": 1,
   "metadata": {},
   "outputs": [],
   "source": [
    "from qucat import Network,GUI,L,J,C,R\n",
    "import numpy as np\n",
    "import matplotlib.pyplot as plt"
   ]
  },
  {
   "cell_type": "code",
   "execution_count": 2,
   "metadata": {},
   "outputs": [
    {
     "name": "stderr",
     "output_type": "stream",
     "text": [
      "c:\\Users\\labranca\\Desktop\\work\\.venv\\Lib\\site-packages\\qutip\\__init__.py:71: UserWarning: Runtime cython compilation does not work on Python 3.12.\n",
      "  warnings.warn(\n"
     ]
    }
   ],
   "source": [
    "cir = Network([\n",
    "C(0,1,100e-15), # transmon\n",
    "J(0,1,'Lj'),\n",
    "C(0,2,100e-15), # resonator\n",
    "L(0,2,10e-9),\n",
    "C(1,2,1e-15), # coupling capacitor\n",
    "C(2,3,0.5e-15), # ext. coupl. cap.\n",
    "R(3,0,50)]) # 50 Ohm load\n",
    "\n",
    "H = cir.hamiltonian(\n",
    "    modes = [0,1],# Include modes 0 and 1\n",
    "    taylor = 4,# Taylor the Josephson potential to the power 4\n",
    "    excitations = [8,10],# Consider 8 excitations in mode 0, 10 for mode 1\n",
    "    Lj = 8e-9)# set any component values that were not fixed when building the circuit\n",
    "\n",
    "# QuTiP method which return the eigenergies of the system\n",
    "ee = H.eigenenergies()"
   ]
  }
 ],
 "metadata": {
  "kernelspec": {
   "display_name": ".venv",
   "language": "python",
   "name": "python3"
  },
  "language_info": {
   "codemirror_mode": {
    "name": "ipython",
    "version": 3
   },
   "file_extension": ".py",
   "mimetype": "text/x-python",
   "name": "python",
   "nbconvert_exporter": "python",
   "pygments_lexer": "ipython3",
   "version": "3.12.2"
  }
 },
 "nbformat": 4,
 "nbformat_minor": 2
}

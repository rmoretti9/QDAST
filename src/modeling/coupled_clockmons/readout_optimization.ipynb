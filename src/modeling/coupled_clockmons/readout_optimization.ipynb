{
 "cells": [
  {
   "cell_type": "code",
   "execution_count": 129,
   "metadata": {},
   "outputs": [],
   "source": [
    "import skrf as rf\n",
    "from math import pi\n",
    "from skrf.media.cpw import CPW\n",
    "import pandas as pd\n",
    "import numpy as np\n",
    "import matplotlib.pyplot as plt\n",
    "from modeling.utils.resonators import cpw_cl_ll, resonator_kappa, cpw_kinetic_inductance, penetration_depth\n",
    "from modeling.utils.network import assemble_network\n",
    "from modeling.utils.qubits import *\n",
    "from qucat import Network,L,J,C,R\n",
    "from modeling.clockmon.libraries.clockmon_library import clockmon_coupling_libraries, clockmon_library, clockmon_cqr_to_ground\n",
    "from modeling.smooth_capacitor.libraries.smooth_capacitor_library import digit_tee_library, digit_tee_ck_to_ground, get_ck\n",
    "import scqubits as scq\n",
    "from scqubits import ParameterSweep"
   ]
  },
  {
   "cell_type": "code",
   "execution_count": 130,
   "metadata": {},
   "outputs": [],
   "source": [
    "rr_freq_target = 7e9\n",
    "a = 10e-6\n",
    "b = 6e-6\n",
    "ep_r = 11.45\n",
    "Z0 = CPW(w = a, s = b, ep_r = ep_r).z0[0].real\n",
    "l_r = Z0*pi/(4*pi*rr_freq_target)\n",
    "c_r = 1/((2*pi*rr_freq_target)**2*l_r)"
   ]
  },
  {
   "cell_type": "code",
   "execution_count": 131,
   "metadata": {},
   "outputs": [],
   "source": [
    "Lj = 10e-9\n",
    "\n",
    "C11 = 20e-15\n",
    "C12 = 10e-15\n",
    "C13 = 2e-15\n",
    "C14 = 1e-15\n",
    "\n",
    "C22 = 50e-15\n",
    "C23 = 110e-15\n",
    "C24 = 3e-15\n",
    "\n",
    "C33 = 50e-15\n",
    "C34 = 9e-15\n",
    "\n",
    "C44 = 19e-15"
   ]
  },
  {
   "cell_type": "code",
   "execution_count": 132,
   "metadata": {},
   "outputs": [
    {
     "name": "stdout",
     "output_type": "stream",
     "text": [
      "1.3785714285714284e-13\n",
      "3.571428571428572e-15\n",
      "1port_frequency =  4286526322.6082716\n"
     ]
    }
   ],
   "source": [
    "c_sig_1port = ((C33 + C13)*(C22 + C12))/(C33 + C22 + C13 + C12) + C23\n",
    "c_qr_1port = (C12*C33 - C13*C22) / (C22 + C12 + C33 + C13)\n",
    "print(c_sig_1port)\n",
    "print(c_qr_1port)\n",
    "print(\"1port_frequency = \", 1/np.sqrt(Lj*c_sig_1port)/2/np.pi)"
   ]
  },
  {
   "cell_type": "code",
   "execution_count": 133,
   "metadata": {},
   "outputs": [
    {
     "name": "stdout",
     "output_type": "stream",
     "text": [
      "         mode |       freq.  |       diss.  |       anha.  |\n",
      "            0 |     4.25 GHz |          0Hz |      138 MHz |\n",
      "\n",
      "Kerr coefficients (diagonal = Kerr, off-diagonal = cross-Kerr)\n",
      "         mode |         0    |\n",
      "            0 |      138 MHz |\n",
      "\n",
      "[0.00000000e+00+0.j 4.10673614e+09+0.j 8.06346683e+09+0.j\n",
      " 1.18607917e+10+0.j 1.54923046e+10+0.j 1.89845812e+10+0.j\n",
      " 2.24744187e+10+0.j 2.63120609e+10+0.j 3.10724658e+10+0.j\n",
      " 3.70873335e+10+0.j]\n",
      "C_sigma extracted =  1.402521457102301e-13\n"
     ]
    }
   ],
   "source": [
    "cir = Network([\n",
    "    C(0, 1, C11),\n",
    "    C(1, 2, C12),\n",
    "    C(1, 3, C13),\n",
    "    C(1, 4, C14),\n",
    "    C(2, 3, C23),\n",
    "    C(2, 0, C22),\n",
    "    C(2, 4, C24),\n",
    "    C(0, 3, C33),\n",
    "    C(3, 4, C34),\n",
    "    J(2, 3, 'Lj'),\n",
    "    C(0, 4, C44),\n",
    "    ])\n",
    "f,k,A,chi = cir.f_k_A_chi(pretty_print=True, Lj = Lj)\n",
    "ham = cir.hamiltonian(modes = [0],\n",
    "                    taylor = 12,\n",
    "                    excitations = [10],\n",
    "                    Lj = Lj)\n",
    "ee = ham.eigenenergies()\n",
    "ee -= ee[0]\n",
    "print(ee)\n",
    "\n",
    "c_sigma_extracted = 1/Lj/(2*np.pi*f[0])**2\n",
    "print(\"C_sigma extracted = \", c_sigma_extracted)"
   ]
  },
  {
   "cell_type": "code",
   "execution_count": 134,
   "metadata": {},
   "outputs": [
    {
     "name": "stdout",
     "output_type": "stream",
     "text": [
      "         mode |       freq.  |       diss.  |       anha.  |\n",
      "            0 |      4.3 GHz |          0Hz |      142 MHz |\n",
      "            1 |     7.04 GHz |      567 kHz |      379 nHz |\n",
      "\n",
      "Kerr coefficients (diagonal = Kerr, off-diagonal = cross-Kerr)\n",
      "         mode |         0    |         1    |\n",
      "            0 |      142 MHz |              |\n",
      "            1 |      14.7 Hz |      379 nHz |\n",
      "\n"
     ]
    },
    {
     "data": {
      "text/plain": [
       "array([4.24976949e+09])"
      ]
     },
     "execution_count": 134,
     "metadata": {},
     "output_type": "execute_result"
    }
   ],
   "source": [
    "cir = Network([\n",
    "    C(0,1,c_sigma_extracted- c_qr_1port), # transmon\n",
    "    J(0,1,'Lj'),\n",
    "    C(0,2,c_r - c_qr_1port), # resonator\n",
    "    L(0,2,l_r),\n",
    "    C(1,2, c_qr_1port*0.01), # coupling capacitor\n",
    "    R(0, 2, 1e6)\n",
    "    ])\n",
    "# f,k,A,chi = \n",
    "cir.f_k_A_chi(pretty_print=True, Lj = Lj)\n",
    "ham = cir.hamiltonian(modes = [0, 1],\n",
    "                    taylor = 6,\n",
    "                    excitations = [10, 10],\n",
    "                    Lj = Lj)\n",
    "ee = ham.eigenenergies()\n",
    "ee -= ee[0]\n",
    "f"
   ]
  },
  {
   "cell_type": "code",
   "execution_count": 135,
   "metadata": {},
   "outputs": [
    {
     "data": {
      "text/plain": [
       "(array([4.30437173e+09, 7.04392937e+09]),\n",
       " array([     0.        , 566746.35123737]),\n",
       " array([1.41681783e+08, 3.78827978e-07]),\n",
       " array([[1.41681783e+08, 1.46523750e+01],\n",
       "        [1.46523750e+01, 3.78827978e-07]]))"
      ]
     },
     "execution_count": 135,
     "metadata": {},
     "output_type": "execute_result"
    }
   ],
   "source": [
    "cir.f_k_A_chi(Lj = Lj)\n"
   ]
  },
  {
   "cell_type": "markdown",
   "metadata": {},
   "source": [
    "# One port"
   ]
  },
  {
   "cell_type": "code",
   "execution_count": 136,
   "metadata": {},
   "outputs": [
    {
     "name": "stdout",
     "output_type": "stream",
     "text": [
      "         mode |       freq.  |       diss.  |       anha.  |\n",
      "            0 |     4.29 GHz |          0Hz |      141 MHz |\n",
      "\n",
      "Kerr coefficients (diagonal = Kerr, off-diagonal = cross-Kerr)\n",
      "         mode |         0    |\n",
      "            0 |      141 MHz |\n",
      "\n"
     ]
    },
    {
     "data": {
      "text/plain": [
       "array([0.00000000e+00+0.j, 4.14109767e+09+0.j, 8.12994932e+09+0.j,\n",
       "       1.19577356e+10+0.j, 1.56192098e+10+0.j, 1.91420962e+10+0.j,\n",
       "       2.26630668e+10+0.j, 2.65330197e+10+0.j, 3.13339168e+10+0.j,\n",
       "       3.74048252e+10+0.j])"
      ]
     },
     "execution_count": 136,
     "metadata": {},
     "output_type": "execute_result"
    }
   ],
   "source": [
    "c_sig = c_sig_1port\n",
    "cir = Network([\n",
    "    C(0,1,c_sig), # transmon\n",
    "    J(0,1,'Lj'),\n",
    "    ])\n",
    "# f,k,A,chi = \n",
    "cir.f_k_A_chi(pretty_print=True, Lj = Lj)\n",
    "ham = cir.hamiltonian(modes = [0],\n",
    "                    taylor = 6,\n",
    "                    excitations = [10],\n",
    "                    Lj = Lj)\n",
    "ee = ham.eigenenergies()\n",
    "ee -= ee[0]\n",
    "freq_harm = 1/np.sqrt(Lj*c_sig)/2/np.pi\n",
    "ee"
   ]
  },
  {
   "cell_type": "code",
   "execution_count": 137,
   "metadata": {},
   "outputs": [
    {
     "data": {
      "text/plain": [
       "4286526322.6082716"
      ]
     },
     "execution_count": 137,
     "metadata": {},
     "output_type": "execute_result"
    }
   ],
   "source": [
    "1/np.sqrt(Lj*c_sig)/2/np.pi"
   ]
  },
  {
   "cell_type": "code",
   "execution_count": 138,
   "metadata": {},
   "outputs": [],
   "source": [
    "CA = c_sig_1port\n",
    "CB = c_r\n",
    "CC = c_qr_1port\n",
    "det = CA*CB + CA*CC + CB*CC\n",
    "CC_eff = det/2/CC"
   ]
  },
  {
   "cell_type": "code",
   "execution_count": 139,
   "metadata": {},
   "outputs": [
    {
     "data": {
      "text/plain": [
       "3.571428571428572e-15"
      ]
     },
     "execution_count": 139,
     "metadata": {},
     "output_type": "execute_result"
    }
   ],
   "source": [
    "CC"
   ]
  },
  {
   "cell_type": "code",
   "execution_count": 140,
   "metadata": {},
   "outputs": [
    {
     "data": {
      "text/plain": [
       "1.413842720086158e-13"
      ]
     },
     "execution_count": 140,
     "metadata": {},
     "output_type": "execute_result"
    }
   ],
   "source": [
    "CA + CB*CC/(CB + CC)"
   ]
  },
  {
   "cell_type": "code",
   "execution_count": 141,
   "metadata": {},
   "outputs": [
    {
     "data": {
      "text/plain": [
       "1.402521457102301e-13"
      ]
     },
     "execution_count": 141,
     "metadata": {},
     "output_type": "execute_result"
    }
   ],
   "source": [
    "c_sigma_extracted"
   ]
  },
  {
   "cell_type": "code",
   "execution_count": 142,
   "metadata": {},
   "outputs": [
    {
     "data": {
      "text/plain": [
       "1.402521457102301e-13"
      ]
     },
     "execution_count": 142,
     "metadata": {},
     "output_type": "execute_result"
    }
   ],
   "source": [
    "c_sigma_extracted"
   ]
  },
  {
   "cell_type": "code",
   "execution_count": 143,
   "metadata": {},
   "outputs": [],
   "source": [
    "# Just floating qubit\n",
    "C11 = 70e-15\n",
    "C22 = 69e-15\n",
    "C12 = 100e-15"
   ]
  },
  {
   "cell_type": "code",
   "execution_count": 144,
   "metadata": {},
   "outputs": [
    {
     "name": "stdout",
     "output_type": "stream",
     "text": [
      "         mode |       freq.  |       diss.  |       anha.  |\n",
      "            0 |     4.23 GHz |       115 Hz |      215 MHz |\n",
      "            1 |        7 GHz |      560 kHz |       186 Hz |\n",
      "\n",
      "Kerr coefficients (diagonal = Kerr, off-diagonal = cross-Kerr)\n",
      "         mode |         0    |         1    |\n",
      "            0 |      215 MHz |              |\n",
      "            1 |      400 kHz |       186 Hz |\n",
      "\n",
      "Dispersive Shift: (4000000004.7309394-2.1249843765904166e-07j)\n",
      "Kerr Shift: (-996768842.7122467-1.749608007044502e-07j)\n"
     ]
    }
   ],
   "source": [
    "c_sigma_extracted = 90e-15\n",
    "cqrs = 3.98953836e-15\n",
    "c_r = 2.84357895e-13\n",
    "l_r = 1.81793726e-09\n",
    "Lj = 1.57443917e-08\n",
    "cir = Network([\n",
    "    C(0,1,c_sigma_extracted- cqrs), # transmon\n",
    "    J(0,1,'Lj'),\n",
    "    C(0,2,c_r - cqrs), # resonator\n",
    "    L(0,2,l_r),\n",
    "    C(1,2, cqrs), # coupling capacitor\n",
    "    R(0, 2, 1e6)\n",
    "    ])\n",
    "# f,k,A,chi = \n",
    "cir.f_k_A_chi(pretty_print=True, Lj = Lj)\n",
    "ham = cir.hamiltonian(modes = [0, 1],\n",
    "                    taylor = 6,\n",
    "                    excitations = [10, 10],\n",
    "                    Lj = Lj)\n",
    "\n",
    "# Diagonalize the Hamiltonian\n",
    "eigenvalues, eigenstates = ham.eigenstates()\n",
    "\n",
    "# Sort eigenvalues\n",
    "eigenvalues = np.sort(eigenvalues)\n",
    "\n",
    "# Calculate dispersive shift\n",
    "dispersive_shift = eigenvalues[1] - eigenvalues[0]\n",
    "\n",
    "# Calculate Kerr shift\n",
    "kerr_shift = eigenvalues[2] - 2 * eigenvalues[1] + eigenvalues[0]\n",
    "\n",
    "print(f\"Dispersive Shift: {dispersive_shift}\")\n",
    "print(f\"Kerr Shift: {kerr_shift}\")\n"
   ]
  },
  {
   "cell_type": "code",
   "execution_count": 145,
   "metadata": {},
   "outputs": [
    {
     "name": "stdout",
     "output_type": "stream",
     "text": [
      "Dispersive Shift: 25123108524.98051\n",
      "Kerr Shift: -6254287195.966087\n"
     ]
    }
   ],
   "source": [
    "import numpy as np\n",
    "from qutip import *\n",
    "\n",
    "# Parameters\n",
    "omega_r = 7e9 * 2 * np.pi  # Resonator frequency in Hz\n",
    "omega_q = 4e9 * 2 * np.pi  # Qubit frequency in Hz\n",
    "E_c = 215224769.19932842 *2*np.pi    # Charging energy in Hz\n",
    "g = 4.26221746e+08      # Coupling strength in Hz\n",
    "\n",
    "# Number of levels\n",
    "N_r = 10   # Number of resonator levels\n",
    "N_q = 5    # Number of qubit levels\n",
    "\n",
    "# Annihilation operators\n",
    "a = tensor(destroy(N_r), qeye(N_q))  # Resonator\n",
    "b = tensor(qeye(N_r), destroy(N_q))  # Qubit\n",
    "\n",
    "# Hamiltonian components\n",
    "H_r = omega_r * a.dag() * a\n",
    "H_q = omega_q * b.dag() * b - (E_c / 2) * b.dag() * b * (b.dag() * b - 1)\n",
    "H_coupling = g * (a.dag() * b + a * b.dag())\n",
    "\n",
    "# Total Hamiltonian\n",
    "H = H_r + H_q + H_coupling\n",
    "\n",
    "# Diagonalize the Hamiltonian\n",
    "eigenvalues, eigenstates = H.eigenstates()\n",
    "\n",
    "# Sort eigenvalues\n",
    "eigenvalues = np.sort(eigenvalues)\n",
    "\n",
    "# Calculate dispersive shift\n",
    "dispersive_shift = eigenvalues[1] - eigenvalues[0]\n",
    "\n",
    "# Calculate Kerr shift\n",
    "kerr_shift = eigenvalues[2] - 2 * eigenvalues[1] + eigenvalues[0]\n",
    "\n",
    "print(f\"Dispersive Shift: {dispersive_shift}\")\n",
    "print(f\"Kerr Shift: {kerr_shift}\")\n"
   ]
  },
  {
   "cell_type": "code",
   "execution_count": 146,
   "metadata": {},
   "outputs": [
    {
     "data": {
      "text/plain": [
       "3998466907.584784"
      ]
     },
     "execution_count": 146,
     "metadata": {},
     "output_type": "execute_result"
    }
   ],
   "source": [
    "dispersive_shift/2/np.pi"
   ]
  },
  {
   "cell_type": "code",
   "execution_count": 147,
   "metadata": {},
   "outputs": [
    {
     "data": {
      "text/plain": [
       "-995400722.7543523"
      ]
     },
     "execution_count": 147,
     "metadata": {},
     "output_type": "execute_result"
    }
   ],
   "source": [
    "kerr_shift/2/np.pi"
   ]
  },
  {
   "cell_type": "code",
   "execution_count": 148,
   "metadata": {},
   "outputs": [
    {
     "data": {
      "text/plain": [
       "3003066184.8304315"
      ]
     },
     "execution_count": 148,
     "metadata": {},
     "output_type": "execute_result"
    }
   ],
   "source": [
    "eigenvalues[2]/2/np.pi - eigenvalues[1]/2/np.pi"
   ]
  },
  {
   "cell_type": "code",
   "execution_count": 149,
   "metadata": {},
   "outputs": [
    {
     "data": {
      "text/plain": [
       "array([4.22725480e+09, 7.00342754e+09])"
      ]
     },
     "execution_count": 149,
     "metadata": {},
     "output_type": "execute_result"
    }
   ],
   "source": [
    "cir.eigenfrequencies(Lj =Lj)"
   ]
  },
  {
   "cell_type": "code",
   "execution_count": 166,
   "metadata": {},
   "outputs": [
    {
     "data": {
      "text/plain": [
       "<108900x108900 sparse matrix of type '<class 'numpy.complex128'>'\n",
       "\twith 5121684 stored elements in Compressed Sparse Column format>"
      ]
     },
     "execution_count": 166,
     "metadata": {},
     "output_type": "execute_result"
    }
   ],
   "source": [
    "import scqubits as scq\n",
    "import numpy as np\n",
    "\n",
    "    # C(0,1,c_sigma_extracted- cqrs), # transmon\n",
    "    # J(0,1,'Lj'),\n",
    "    # C(0,2,c_r - cqrs), # resonator\n",
    "    # L(0,2,l_r),\n",
    "    # C(1,2, cqrs), # coupling capacitor\n",
    "    \n",
    "zp_yaml = \"\"\"# zero-pi\n",
    "branches:\n",
    "- [\"JJ\", 0,1, EJ = 1.57443917e-08, 20]\n",
    "- [\"L\", 0,2, 1.81793726e-09]\n",
    "- [\"C\", 0,1, 8.601046163999999e-14]\n",
    "- [\"C\", 0,2, 2.8036835664e-13]\n",
    "- [\"C\", 1,2, 3.98953836e-15]\n",
    "\"\"\"\n",
    "zero_pi = scq.Circuit(zp_yaml, from_file=False)\n",
    "zero_pi.hamiltonian()\n",
    "\n"
   ]
  },
  {
   "cell_type": "code",
   "execution_count": 170,
   "metadata": {},
   "outputs": [
    {
     "data": {
      "text/plain": [
       "3.98953836e-15"
      ]
     },
     "execution_count": 170,
     "metadata": {},
     "output_type": "execute_result"
    }
   ],
   "source": [
    "cqrs"
   ]
  },
  {
   "cell_type": "code",
   "execution_count": 161,
   "metadata": {},
   "outputs": [
    {
     "data": {
      "text/plain": [
       "<9900x9900 sparse matrix of type '<class 'numpy.complex128'>'\n",
       "\twith 138780 stored elements in Compressed Sparse Column format>"
      ]
     },
     "execution_count": 161,
     "metadata": {},
     "output_type": "execute_result"
    }
   ],
   "source": [
    "zero_pi.hamiltonian()\n"
   ]
  },
  {
   "cell_type": "code",
   "execution_count": 163,
   "metadata": {},
   "outputs": [
    {
     "data": {
      "text/plain": [
       "array([-3.66713832, -3.65542458, -3.64979332, -3.63807958, -3.54945453,\n",
       "       -3.54891778])"
      ]
     },
     "execution_count": 163,
     "metadata": {},
     "output_type": "execute_result"
    }
   ],
   "source": [
    "zero_pi.eigenvals()\n"
   ]
  }
 ],
 "metadata": {
  "kernelspec": {
   "display_name": ".venv",
   "language": "python",
   "name": "python3"
  },
  "language_info": {
   "codemirror_mode": {
    "name": "ipython",
    "version": 3
   },
   "file_extension": ".py",
   "mimetype": "text/x-python",
   "name": "python",
   "nbconvert_exporter": "python",
   "pygments_lexer": "ipython3",
   "version": "3.12.2"
  }
 },
 "nbformat": 4,
 "nbformat_minor": 2
}

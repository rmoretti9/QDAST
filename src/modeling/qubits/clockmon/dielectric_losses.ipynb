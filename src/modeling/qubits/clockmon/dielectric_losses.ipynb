{
 "cells": [
  {
   "cell_type": "code",
   "execution_count": 17,
   "metadata": {},
   "outputs": [],
   "source": [
    "import numpy as np\n",
    "import pandas as pd\n",
    "import matplotlib.pyplot as plt"
   ]
  },
  {
   "cell_type": "code",
   "execution_count": 18,
   "metadata": {},
   "outputs": [],
   "source": [
    "def Q_factor_to_dataframe(dfin, tan_ma, tan_ms, tan_sa, tan_substrate, mer = True):\n",
    "    if mer:\n",
    "        df = dfin.copy()\n",
    "        df['1/Q_MA_fixed'] = df['p_MA_fixed']*tan_ma\n",
    "        df['1/Q_MS_fixed'] = df['p_MS_fixed']*tan_ms\n",
    "        df['1/Q_SA_fixed'] = df['p_SA_fixed']*tan_sa\n",
    "        df['1/Q_substrate_fixed'] = df['p_substrate_fixed']*tan_substrate\n",
    "        df['1/Q'] = df['1/Q_MA_fixed'] + df['1/Q_MS_fixed'] + df['1/Q_SA_fixed'] + df['1/Q_substrate_fixed']\n",
    "        df['Q_MA_fixed'] = 1./df['1/Q_MA_fixed']\n",
    "        df['Q_MS_fixed'] = 1./df['1/Q_MS_fixed']\n",
    "        df['Q_SA_fixed'] = 1./df['1/Q_SA_fixed']\n",
    "        df['Q_substrate_fixed'] = 1./df['1/Q_substrate_fixed']\n",
    "        df['Q'] = 1./df['1/Q']\n",
    "        df['tan_ma']=tan_ma\n",
    "        df['tan_ms']=tan_ms\n",
    "        df['tan_sa']=tan_sa\n",
    "        df['tan_substrate']=tan_substrate\n",
    "    else:\n",
    "        df = dfin.copy()\n",
    "        print(df['p_MA']*tan_ma)\n",
    "        df['1/Q_MA'] = df['p_MA']*tan_ma\n",
    "        df['1/Q_MS'] = df['p_MS']*tan_ms\n",
    "        df['1/Q_SA'] = df['p_SA']*tan_sa\n",
    "        df['1/Q_substrate'] = df['p_substrate']*tan_substrate\n",
    "        df['1/Q'] = df['1/Q_MA'] + df['1/Q_MS'] + df['1/Q_SA'] + df['1/Q_substrate']\n",
    "        df['Q_MA'] = 1./df['1/Q_MA']\n",
    "        df['Q_MS'] = 1./df['1/Q_MS']\n",
    "        df['Q_SA'] = 1./df['1/Q_SA']\n",
    "        df['Q_substrate'] = 1./df['1/Q_substrate']\n",
    "        df['Q'] = 1./df['1/Q']\n",
    "        df['tan_ma']=tan_ma\n",
    "        df['tan_ms']=tan_ms\n",
    "        df['tan_sa']=tan_sa\n",
    "        df['tan_substrate']=tan_substrate\n",
    "    return df"
   ]
  },
  {
   "cell_type": "code",
   "execution_count": 19,
   "metadata": {},
   "outputs": [],
   "source": [
    "eigenmode_paths=[\n",
    "    'libraries/sweeps/clockmon_eigenmode_epr_thesis.csv',\n",
    "    'libraries/sweeps/clockmon_eigenmode_epr_mer_thesis.csv'\n",
    "]\n",
    "names = [\n",
    "    'Clockmon',\n",
    "    'Clocmon - 2D-3D'\n",
    "]\n"
   ]
  },
  {
   "cell_type": "code",
   "execution_count": 20,
   "metadata": {},
   "outputs": [
    {
     "name": "stdout",
     "output_type": "stream",
     "text": [
      "0    1.388973e-08\n",
      "Name: p_MA, dtype: float64\n"
     ]
    }
   ],
   "source": [
    "# From https://arxiv.org/abs/2012.10761\n",
    "\n",
    "ma_vals = [9.9e-3]\n",
    "ms_vals = [3.5e-4]\n",
    "sa_vals = [1.7e-3]\n",
    "\n",
    "substrate_vals = [1.3e-7]\n",
    "case_names = [f\"ms:{ms}, ma:{ma}, sa:{sa}, substrate:{substrate}\"\n",
    "              for ms, ma, sa, substrate in zip(ms_vals, ma_vals, sa_vals, substrate_vals)]\n",
    "\n",
    "mers = [False, True]\n",
    "dfs = []\n",
    "for i_tan in range(len(ma_vals)):\n",
    "    for i, epath in enumerate(eigenmode_paths):\n",
    "        df = pd.read_csv(epath)\n",
    "        df['case']=df.index*0+i_tan\n",
    "        dfs.append(Q_factor_to_dataframe(df, ma_vals[i_tan], ms_vals[i_tan], sa_vals[i_tan], substrate_vals[i_tan], mers[i]))\n",
    "\n",
    "df = pd.concat(dfs)"
   ]
  },
  {
   "cell_type": "code",
   "execution_count": 21,
   "metadata": {},
   "outputs": [
    {
     "data": {
      "text/plain": [
       "0    4.319991e+06\n",
       "0    2.311370e+06\n",
       "Name: Q, dtype: float64"
      ]
     },
     "execution_count": 21,
     "metadata": {},
     "output_type": "execute_result"
    }
   ],
   "source": [
    "df['Q']"
   ]
  },
  {
   "cell_type": "code",
   "execution_count": 22,
   "metadata": {},
   "outputs": [
    {
     "data": {
      "text/plain": [
       "0    137.509588\n",
       "0     73.573187\n",
       "Name: T1, dtype: float64"
      ]
     },
     "execution_count": 22,
     "metadata": {},
     "output_type": "execute_result"
    }
   ],
   "source": [
    "f = 5e9\n",
    "omega = 2.*np.pi*f\n",
    "df['T1']=df['Q']/omega*1e6\n",
    "df['T1']"
   ]
  },
  {
   "cell_type": "code",
   "execution_count": 23,
   "metadata": {},
   "outputs": [],
   "source": [
    "clockmon_ma = df.iloc[0][\"p_MA\"]\n",
    "clockmon_sa = df.iloc[0][\"p_SA\"]\n",
    "clockmon_ms = df.iloc[0][\"p_MS\"]\n",
    "clockmon_substrate = df.iloc[0][\"p_substrate\"]\n",
    "clockmon_air = df.iloc[0][\"p_vacuum\"]\n",
    "\n",
    "\n",
    "clockmon_ma_mer = df.iloc[1][\"p_MA_fixed\"]\n",
    "clockmon_sa_mer = df.iloc[1][\"p_SA_fixed\"]\n",
    "clockmon_ms_mer = df.iloc[1][\"p_MS_fixed\"]\n",
    "clockmon_substrate_mer = df.iloc[1][\"p_substrate_fixed\"]\n",
    "clockmon_air_mer = df.iloc[1][\"p_vacuum_fixed\"]"
   ]
  },
  {
   "cell_type": "code",
   "execution_count": 24,
   "metadata": {},
   "outputs": [
    {
     "data": {
      "text/plain": [
       "(7.86305972915862e-06, 1.4330781083783444e-05)"
      ]
     },
     "execution_count": 24,
     "metadata": {},
     "output_type": "execute_result"
    }
   ],
   "source": [
    "clockmon_ms, clockmon_ms_mer"
   ]
  },
  {
   "cell_type": "code",
   "execution_count": 25,
   "metadata": {},
   "outputs": [
    {
     "data": {
      "image/png": "[encoded data removed]",
      "text/plain": [
       "<Figure size 300x400 with 1 Axes>"
      ]
     },
     "metadata": {},
     "output_type": "display_data"
    }
   ],
   "source": [
    "mer = [clockmon_ma_mer, clockmon_sa_mer, clockmon_ms_mer]\n",
    "nonmer = [clockmon_ma, clockmon_sa, clockmon_ms]\n",
    "\n",
    "# Data for plotting\n",
    "categories = ['3D only', '3D-2D']\n",
    "MA = [nonmer[0], mer[0]]\n",
    "SA = [nonmer[1], mer[1]]\n",
    "MS = [nonmer[2], mer[2]]\n",
    "\n",
    "# Create the plot\n",
    "fig, ax = plt.subplots()\n",
    "fig.set_size_inches(3, 4)  \n",
    "bar_width = 0.7\n",
    "r1 = range(len(categories))\n",
    "\n",
    "ax.bar(r1, MA, color='b', edgecolor='black', width=bar_width, label='MA')\n",
    "ax.bar(r1, SA, bottom=MA, color='r', edgecolor='black', width=bar_width, label='SA')\n",
    "ax.bar(r1, MS, bottom=[i+j for i,j in zip(MA, SA)], color='g', edgecolor='black', width=bar_width, label='MS')\n",
    "offset = ax.yaxis.get_offset_text()\n",
    "# offset.set_transform(ax.transAxes)\n",
    "# offset.set_position((0, 1e-6))\n",
    "# ax.set_xlabel('Categories', fontweight='bold')\n",
    "ax.set_ylabel('EPR', fontsize = 14)\n",
    "ax.set_xticks(r1)\n",
    "ax.set_xticklabels(categories, fontsize=12)\n",
    "ax.legend(loc=\"lower right\")\n",
    "plt.show()"
   ]
  },
  {
   "cell_type": "code",
   "execution_count": 26,
   "metadata": {},
   "outputs": [
    {
     "data": {
      "image/png": "[encoded data removed]",
      "text/plain": [
       "<Figure size 300x400 with 1 Axes>"
      ]
     },
     "metadata": {},
     "output_type": "display_data"
    }
   ],
   "source": [
    "fig, ax = plt.subplots()\n",
    "fig.set_size_inches(3, 4)  # Adjust the width and height as needed\n",
    "\n",
    "categories = ['3D only', '3D-2D']\n",
    "substrate = [clockmon_substrate, clockmon_substrate_mer ]\n",
    "air = [clockmon_air, clockmon_air_mer]\n",
    "\n",
    "bar_width = 0.7\n",
    "r1 = range(len(categories))\n",
    "\n",
    "ax.bar(r1, substrate, color='c', edgecolor='black', width=bar_width, label='Substrate')\n",
    "ax.bar(r1, air, bottom=substrate, color='m', edgecolor='black', width=bar_width, label='Air')\n",
    "\n",
    "# ax.set_xlabel('Categories', fontweight='bold')\n",
    "ax.set_ylabel('EPR', fontsize = 14)\n",
    "ax.set_xticks(r1)\n",
    "ax.set_xticklabels(categories, fontsize=12)\n",
    "ax.legend(loc='lower right') \n",
    "plt.show()"
   ]
  }
 ],
 "metadata": {
  "kernelspec": {
   "display_name": ".venv",
   "language": "python",
   "name": "python3"
  },
  "language_info": {
   "codemirror_mode": {
    "name": "ipython",
    "version": 3
   },
   "file_extension": ".py",
   "mimetype": "text/x-python",
   "name": "python",
   "nbconvert_exporter": "python",
   "pygments_lexer": "ipython3",
   "version": "3.12.2"
  }
 },
 "nbformat": 4,
 "nbformat_minor": 2
}

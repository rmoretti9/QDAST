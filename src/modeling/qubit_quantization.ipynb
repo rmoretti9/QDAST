{
 "cells": [
  {
   "cell_type": "markdown",
   "metadata": {},
   "source": [
    "# Quantization of the qubit-readout resonator coupling\n",
    "In this notebook we use QuCAT package to extract parameters of interests (kerr matrix, frequencies) from a lumped circuit model and the qubit-coupler capacitance matrix."
   ]
  },
  {
   "cell_type": "code",
   "execution_count": 21,
   "metadata": {},
   "outputs": [],
   "source": [
    "from qucat import Network,L,J,C,R\n",
    "import numpy as np\n",
    "import matplotlib.pyplot as plt\n",
    "import pandas as pd\n",
    "from math import pi\n",
    "from sympy import symbols\n",
    "from skrf.media.cpw import CPW"
   ]
  },
  {
   "cell_type": "code",
   "execution_count": 22,
   "metadata": {},
   "outputs": [],
   "source": [
    "# Load the capacitance matrix\n",
    "# path_to_cmatrix = 'clockmon/clockmon_capacitance_sim_output_q3d_results.csv'\n",
    "# path_to_cmatrix = 'doublepads/double_pads_sim_output_q3d_results.csv'\n",
    "path_to_cmatrix = 'clockmon/libraries/clockmon_capacitance_sim_q3d_results.csv'\n",
    "cmatrix = pd.read_csv(path_to_cmatrix)\n",
    "\n",
    "C11 = cmatrix[\"C11\"].iloc[0]\n",
    "C12 = cmatrix[\"C12\"].iloc[0]\n",
    "C13 = cmatrix[\"C13\"].iloc[0]\n",
    "C21 = cmatrix[\"C21\"].iloc[0]\n",
    "C22 = cmatrix[\"C22\"].iloc[0]\n",
    "C23 = cmatrix[\"C23\"].iloc[0]\n",
    "C31 = cmatrix[\"C31\"].iloc[0]\n",
    "C32 = cmatrix[\"C32\"].iloc[0]\n",
    "C33 = cmatrix[\"C33\"].iloc[0]\n",
    "\n",
    "# KQCircuit's DoublePad has a different port convention and the cmatrix should be loaded differently:\n",
    "# # 1 -> 3\n",
    "# # 3 -> 2\n",
    "# # 2 -> 1\n",
    "# C11 = cmatrix[\"C33\"].iloc[0]\n",
    "# C12 = cmatrix[\"C13\"].iloc[0]\n",
    "# C13 = cmatrix[\"C23\"].iloc[0]\n",
    "# C21 = cmatrix[\"C13\"].iloc[0]\n",
    "# C22 = cmatrix[\"C11\"].iloc[0]\n",
    "# C23 = cmatrix[\"C12\"].iloc[0]\n",
    "# C31 = cmatrix[\"C23\"].iloc[0]\n",
    "# C32 = cmatrix[\"C12\"].iloc[0]\n",
    "# C33 = cmatrix[\"C22\"].iloc[0]"
   ]
  },
  {
   "cell_type": "code",
   "execution_count": 23,
   "metadata": {},
   "outputs": [
    {
     "name": "stdout",
     "output_type": "stream",
     "text": [
      "C_Sigma = 9.006865227433394e-14 F\n",
      "C_qr = 4.927340211579885e-15 F\n"
     ]
    }
   ],
   "source": [
    "# Compute C_Sigma and C_qr\n",
    "# Formulas adapted from https://qudev.phys.ethz.ch/static/content/science/Documents/semester/Burkhard_Simon_SemesterThesis_130211.pdf\n",
    "c33, c22, c11, c23, c13, c12 = symbols('c33, c22, c11, c23, c13, c12')\n",
    "c_sigma = ((c33 + c13)*(c22 + c12))/(c33 + c22 + c13 + c12) + c23\n",
    "\n",
    "# c_sigma = (c22*c33)/(c22 + c33) + c23 # This approximation neglects the coupler-islands terms\n",
    "\n",
    "beta = (c33*c12 - c22*c13)/((c33+c13)*(c22 + c12) + (c33 + c22 + c13 + c12)*c23)\n",
    "c_qr = beta*c_sigma\n",
    "\n",
    "c_sigma = c_sigma.subs(c33, C33)\n",
    "c_sigma = c_sigma.subs(c22, C22)\n",
    "c_sigma = c_sigma.subs(c11, C11)\n",
    "c_sigma = c_sigma.subs(c23, C23)\n",
    "c_sigma = c_sigma.subs(c13, C13)\n",
    "c_sigma = c_sigma.subs(c12, C12)\n",
    "\n",
    "c_qr = c_qr.subs(c33, C33)\n",
    "c_qr = c_qr.subs(c22, C22)\n",
    "c_qr = c_qr.subs(c11, C11)\n",
    "c_qr = c_qr.subs(c23, C23)\n",
    "c_qr = c_qr.subs(c13, C13)\n",
    "c_qr = c_qr.subs(c12, C12)\n",
    "\n",
    "c_sigma = float(c_sigma)\n",
    "c_qr = float(c_qr)\n",
    "print(f\"C_Sigma = {c_sigma} F\")\n",
    "print(f\"C_qr = {c_qr} F\")"
   ]
  },
  {
   "cell_type": "code",
   "execution_count": 24,
   "metadata": {},
   "outputs": [],
   "source": [
    "# Define the Qubit-resonator network\n",
    "Z0 = CPW( w = 10e-6, s = 6e-6, ep_r = 11.9).z0[0].real\n",
    "readout_res_frequency = 6.5e9\n",
    "l_r = Z0*pi/(4*pi*readout_res_frequency)\n",
    "c_r = 1/((2*pi*readout_res_frequency)**2*l_r)\n",
    "cir = Network([\n",
    "        C(0,1,c_sigma -c_qr ), # transmon\n",
    "        J(0,1,'Lj'),\n",
    "        C(0,2,c_r), # resonator\n",
    "        L(0,2,l_r),\n",
    "        C(1,2,c_qr), # coupling capacitor\n",
    "    ])"
   ]
  },
  {
   "cell_type": "code",
   "execution_count": 25,
   "metadata": {},
   "outputs": [],
   "source": [
    "# Compute hamiltonian (for h=1, so all energies are expressed in frequency units, not angular)\n",
    "H = cir.hamiltonian(\n",
    "    modes = [0, 1],# Include modes 0 and 1\n",
    "    taylor = 4,# Taylor the Josephson potential to the power 4\n",
    "    excitations = [10, 10],# Consider 10 excitations in mode 0, 10 for mode 1\n",
    "    Lj = 13.539e-9)# set any component values that were not fixed when building the circuit\n",
    "\n",
    "# QuTiP method which return the eigenergies of the system\n",
    "ee = H.eigenenergies()"
   ]
  },
  {
   "cell_type": "code",
   "execution_count": 26,
   "metadata": {},
   "outputs": [
    {
     "data": {
      "text/plain": [
       "4557639867.033993"
      ]
     },
     "execution_count": 26,
     "metadata": {},
     "output_type": "execute_result"
    }
   ],
   "source": [
    "1 / np.sqrt(c_sigma * 13.539e-9) / 2/ np.pi"
   ]
  },
  {
   "cell_type": "code",
   "execution_count": 27,
   "metadata": {},
   "outputs": [
    {
     "name": "stdout",
     "output_type": "stream",
     "text": [
      "4.315 GHz\n"
     ]
    }
   ],
   "source": [
    "first_transition = ee[1]-ee[0] # in units of Hertz\n",
    "# print this frequency in GHz units\n",
    "print(\"%.3f GHz\"%((first_transition)/1e9))"
   ]
  },
  {
   "cell_type": "code",
   "execution_count": 28,
   "metadata": {},
   "outputs": [
    {
     "name": "stdout",
     "output_type": "stream",
     "text": [
      "0.281 GHz\n"
     ]
    }
   ],
   "source": [
    "# We assume that: (|qubit state, resonator state>)\n",
    "# ee[0] -> |00>\n",
    "# ee[1] -> |10>\n",
    "# ee[2] -> |01>\n",
    "# ee[3] -> |20>\n",
    "anharmonicity = ee[1] - ee[0] - (ee[3] - ee[1]) # in units of Hertz\n",
    "# print this frequency in GHz units\n",
    "print(\"%.3f GHz\"%((anharmonicity)/1e9))"
   ]
  },
  {
   "cell_type": "code",
   "execution_count": 29,
   "metadata": {},
   "outputs": [
    {
     "name": "stdout",
     "output_type": "stream",
     "text": [
      "         mode |       freq.  |       diss.  |       anha.  |\n",
      "            0 |     4.56 GHz |          0Hz |      214 MHz |\n",
      "            1 |     6.45 GHz |          0Hz |     1.23 kHz |\n",
      "\n",
      "Kerr coefficients (diagonal = Kerr, off-diagonal = cross-Kerr)\n",
      "         mode |         0    |         1    |\n",
      "            0 |      214 MHz |              |\n",
      "            1 |     1.03 MHz |     1.23 kHz |\n",
      "\n"
     ]
    }
   ],
   "source": [
    "# note that \"f\" here is simply 1/sqrt(LC)/2pi\n",
    "f,k,A,chi = cir.f_k_A_chi(pretty_print=True,Lj = 13.539e-9)\n"
   ]
  },
  {
   "cell_type": "code",
   "execution_count": 30,
   "metadata": {},
   "outputs": [
    {
     "name": "stderr",
     "output_type": "stream",
     "text": [
      "c:\\Users\\labranca\\Desktop\\work\\.venv\\Lib\\site-packages\\matplotlib\\cbook.py:1699: ComplexWarning: Casting complex values to real discards the imaginary part\n",
      "  return math.isfinite(val)\n",
      "c:\\Users\\labranca\\Desktop\\work\\.venv\\Lib\\site-packages\\matplotlib\\cbook.py:1345: ComplexWarning: Casting complex values to real discards the imaginary part\n",
      "  return np.asarray(x, float)\n"
     ]
    },
    {
     "data": {
      "image/png": "[encoded data removed]",
      "text/plain": [
       "<Figure size 640x480 with 1 Axes>"
      ]
     },
     "metadata": {},
     "output_type": "display_data"
    }
   ],
   "source": [
    "# array of values for the josephson inductance\n",
    "Lj_list = np.linspace(2e-9,15e-9,101)\n",
    "\n",
    "# Eigen-frequencies of the system:\n",
    "freqs = cir.eigenfrequencies(Lj=Lj_list)\n",
    "\n",
    "# plot first mode\n",
    "plt.plot(Lj_list*1e9,freqs[0]/1e9)\n",
    "\n",
    "# plot second mode\n",
    "plt.plot(Lj_list*1e9,freqs[1]/1e9)\n",
    "\n",
    "# Add labels\n",
    "plt.xlabel('L_J (nH)')\n",
    "plt.ylabel('Normal mode frequency (GHz)')\n",
    "\n",
    "# show the figure\n",
    "plt.show()"
   ]
  }
 ],
 "metadata": {
  "kernelspec": {
   "display_name": ".venv",
   "language": "python",
   "name": "python3"
  },
  "language_info": {
   "codemirror_mode": {
    "name": "ipython",
    "version": 3
   },
   "file_extension": ".py",
   "mimetype": "text/x-python",
   "name": "python",
   "nbconvert_exporter": "python",
   "pygments_lexer": "ipython3",
   "version": "3.12.2"
  }
 },
 "nbformat": 4,
 "nbformat_minor": 2
}

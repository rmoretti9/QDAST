{
 "cells": [
  {
   "cell_type": "code",
   "execution_count": 52,
   "metadata": {},
   "outputs": [
    {
     "ename": "IntegratorException",
     "evalue": "Excess work done on this call. Try to increasing the nsteps parameter in the Options class",
     "output_type": "error",
     "traceback": [
      "\u001b[1;31m---------------------------------------------------------------------------\u001b[0m",
      "\u001b[1;31mIntegratorException\u001b[0m                       Traceback (most recent call last)",
      "Cell \u001b[1;32mIn[52], line 28\u001b[0m\n\u001b[0;32m     25\u001b[0m initial_state \u001b[38;5;241m=\u001b[39m qutip\u001b[38;5;241m.\u001b[39mbasis([\u001b[38;5;241m10\u001b[39m, \u001b[38;5;241m2\u001b[39m, \u001b[38;5;241m2\u001b[39m], [\u001b[38;5;241m0\u001b[39m, \u001b[38;5;241m0\u001b[39m, \u001b[38;5;241m0\u001b[39m])\n\u001b[0;32m     27\u001b[0m \u001b[38;5;66;03m# Run the simulation with T1 relaxation\u001b[39;00m\n\u001b[1;32m---> 28\u001b[0m result \u001b[38;5;241m=\u001b[39m \u001b[43mprocessor\u001b[49m\u001b[38;5;241;43m.\u001b[39;49m\u001b[43mrun_state\u001b[49m\u001b[43m(\u001b[49m\n\u001b[0;32m     29\u001b[0m \u001b[43m    \u001b[49m\u001b[43minitial_state\u001b[49m\u001b[43m,\u001b[49m\n\u001b[0;32m     30\u001b[0m \u001b[43m    \u001b[49m\u001b[43moptions\u001b[49m\u001b[38;5;241;43m=\u001b[39;49m\u001b[43mqutip\u001b[49m\u001b[38;5;241;43m.\u001b[39;49m\u001b[43mOptions\u001b[49m\u001b[43m(\u001b[49m\u001b[43mnsteps\u001b[49m\u001b[38;5;241;43m=\u001b[39;49m\u001b[38;5;241;43m5000\u001b[39;49m\u001b[43m)\u001b[49m\n\u001b[0;32m     31\u001b[0m \u001b[43m)\u001b[49m\n\u001b[0;32m     33\u001b[0m \u001b[38;5;66;03m# Extract the final qubit state by tracing out the cavity\u001b[39;00m\n\u001b[0;32m     34\u001b[0m final_qubit_state \u001b[38;5;241m=\u001b[39m result\u001b[38;5;241m.\u001b[39mstates[\u001b[38;5;241m-\u001b[39m\u001b[38;5;241m1\u001b[39m]\u001b[38;5;241m.\u001b[39mptrace([\u001b[38;5;241m1\u001b[39m, \u001b[38;5;241m2\u001b[39m])\n",
      "File \u001b[1;32mc:\\Users\\pc\\Desktop\\work\\.venv\\Lib\\site-packages\\qutip_qip\\device\\modelprocessor.py:120\u001b[0m, in \u001b[0;36mModelProcessor.run_state\u001b[1;34m(self, init_state, analytical, qc, states, **kwargs)\u001b[0m\n\u001b[0;32m    118\u001b[0m \u001b[38;5;28;01mif\u001b[39;00m qc \u001b[38;5;129;01mis\u001b[39;00m \u001b[38;5;129;01mnot\u001b[39;00m \u001b[38;5;28;01mNone\u001b[39;00m:\n\u001b[0;32m    119\u001b[0m     \u001b[38;5;28mself\u001b[39m\u001b[38;5;241m.\u001b[39mload_circuit(qc)\n\u001b[1;32m--> 120\u001b[0m \u001b[38;5;28;01mreturn\u001b[39;00m \u001b[38;5;28;43msuper\u001b[39;49m\u001b[43m(\u001b[49m\u001b[43mModelProcessor\u001b[49m\u001b[43m,\u001b[49m\u001b[43m \u001b[49m\u001b[38;5;28;43mself\u001b[39;49m\u001b[43m)\u001b[49m\u001b[38;5;241;43m.\u001b[39;49m\u001b[43mrun_state\u001b[49m\u001b[43m(\u001b[49m\n\u001b[0;32m    121\u001b[0m \u001b[43m    \u001b[49m\u001b[43minit_state\u001b[49m\u001b[38;5;241;43m=\u001b[39;49m\u001b[43minit_state\u001b[49m\u001b[43m,\u001b[49m\n\u001b[0;32m    122\u001b[0m \u001b[43m    \u001b[49m\u001b[43manalytical\u001b[49m\u001b[38;5;241;43m=\u001b[39;49m\u001b[43manalytical\u001b[49m\u001b[43m,\u001b[49m\n\u001b[0;32m    123\u001b[0m \u001b[43m    \u001b[49m\u001b[43mstates\u001b[49m\u001b[38;5;241;43m=\u001b[39;49m\u001b[43mstates\u001b[49m\u001b[43m,\u001b[49m\n\u001b[0;32m    124\u001b[0m \u001b[43m    \u001b[49m\u001b[38;5;241;43m*\u001b[39;49m\u001b[38;5;241;43m*\u001b[39;49m\u001b[43mkwargs\u001b[49m\n\u001b[0;32m    125\u001b[0m \u001b[43m\u001b[49m\u001b[43m)\u001b[49m\n",
      "File \u001b[1;32mc:\\Users\\pc\\Desktop\\work\\.venv\\Lib\\site-packages\\qutip_qip\\device\\processor.py:1216\u001b[0m, in \u001b[0;36mProcessor.run_state\u001b[1;34m(self, init_state, analytical, states, noisy, solver, **kwargs)\u001b[0m\n\u001b[0;32m   1214\u001b[0m \u001b[38;5;66;03m# choose solver:\u001b[39;00m\n\u001b[0;32m   1215\u001b[0m \u001b[38;5;28;01mif\u001b[39;00m solver \u001b[38;5;241m==\u001b[39m \u001b[38;5;124m\"\u001b[39m\u001b[38;5;124mmesolve\u001b[39m\u001b[38;5;124m\"\u001b[39m:\n\u001b[1;32m-> 1216\u001b[0m     evo_result \u001b[38;5;241m=\u001b[39m \u001b[43mmesolve\u001b[49m\u001b[43m(\u001b[49m\n\u001b[0;32m   1217\u001b[0m \u001b[43m        \u001b[49m\u001b[43mH\u001b[49m\u001b[38;5;241;43m=\u001b[39;49m\u001b[43mnoisy_qobjevo\u001b[49m\u001b[43m,\u001b[49m\u001b[43m \u001b[49m\u001b[43mrho0\u001b[49m\u001b[38;5;241;43m=\u001b[39;49m\u001b[43minit_state\u001b[49m\u001b[43m,\u001b[49m\u001b[43m \u001b[49m\u001b[43mtlist\u001b[49m\u001b[38;5;241;43m=\u001b[39;49m\u001b[43mtlist\u001b[49m\u001b[43m,\u001b[49m\u001b[43m \u001b[49m\u001b[38;5;241;43m*\u001b[39;49m\u001b[38;5;241;43m*\u001b[39;49m\u001b[43mkwargs\u001b[49m\n\u001b[0;32m   1218\u001b[0m \u001b[43m    \u001b[49m\u001b[43m)\u001b[49m\n\u001b[0;32m   1219\u001b[0m \u001b[38;5;28;01melif\u001b[39;00m solver \u001b[38;5;241m==\u001b[39m \u001b[38;5;124m\"\u001b[39m\u001b[38;5;124mmcsolve\u001b[39m\u001b[38;5;124m\"\u001b[39m:\n\u001b[0;32m   1220\u001b[0m     evo_result \u001b[38;5;241m=\u001b[39m mcsolve(\n\u001b[0;32m   1221\u001b[0m         noisy_qobjevo, init_state, tlist\u001b[38;5;241m=\u001b[39mtlist, \u001b[38;5;241m*\u001b[39m\u001b[38;5;241m*\u001b[39mkwargs\n\u001b[0;32m   1222\u001b[0m     )\n",
      "File \u001b[1;32mc:\\Users\\pc\\Desktop\\work\\.venv\\Lib\\site-packages\\qutip\\solver\\mesolve.py:141\u001b[0m, in \u001b[0;36mmesolve\u001b[1;34m(H, rho0, tlist, c_ops, e_ops, args, options, **kwargs)\u001b[0m\n\u001b[0;32m    138\u001b[0m use_mesolve \u001b[38;5;241m=\u001b[39m \u001b[38;5;28mlen\u001b[39m(c_ops) \u001b[38;5;241m>\u001b[39m \u001b[38;5;241m0\u001b[39m \u001b[38;5;129;01mor\u001b[39;00m (\u001b[38;5;129;01mnot\u001b[39;00m rho0\u001b[38;5;241m.\u001b[39misket) \u001b[38;5;129;01mor\u001b[39;00m H\u001b[38;5;241m.\u001b[39missuper\n\u001b[0;32m    140\u001b[0m \u001b[38;5;28;01mif\u001b[39;00m \u001b[38;5;129;01mnot\u001b[39;00m use_mesolve:\n\u001b[1;32m--> 141\u001b[0m     \u001b[38;5;28;01mreturn\u001b[39;00m \u001b[43msesolve\u001b[49m\u001b[43m(\u001b[49m\u001b[43mH\u001b[49m\u001b[43m,\u001b[49m\u001b[43m \u001b[49m\u001b[43mrho0\u001b[49m\u001b[43m,\u001b[49m\u001b[43m \u001b[49m\u001b[43mtlist\u001b[49m\u001b[43m,\u001b[49m\u001b[43m \u001b[49m\u001b[43me_ops\u001b[49m\u001b[38;5;241;43m=\u001b[39;49m\u001b[43me_ops\u001b[49m\u001b[43m,\u001b[49m\u001b[43m \u001b[49m\u001b[43margs\u001b[49m\u001b[38;5;241;43m=\u001b[39;49m\u001b[43margs\u001b[49m\u001b[43m,\u001b[49m\n\u001b[0;32m    142\u001b[0m \u001b[43m                   \u001b[49m\u001b[43moptions\u001b[49m\u001b[38;5;241;43m=\u001b[39;49m\u001b[43moptions\u001b[49m\u001b[43m)\u001b[49m\n\u001b[0;32m    144\u001b[0m solver \u001b[38;5;241m=\u001b[39m MESolver(H, c_ops, options\u001b[38;5;241m=\u001b[39moptions)\n\u001b[0;32m    146\u001b[0m \u001b[38;5;28;01mreturn\u001b[39;00m solver\u001b[38;5;241m.\u001b[39mrun(rho0, tlist, e_ops\u001b[38;5;241m=\u001b[39me_ops)\n",
      "File \u001b[1;32mc:\\Users\\pc\\Desktop\\work\\.venv\\Lib\\site-packages\\qutip\\solver\\sesolve.py:106\u001b[0m, in \u001b[0;36msesolve\u001b[1;34m(H, psi0, tlist, e_ops, args, options, **kwargs)\u001b[0m\n\u001b[0;32m    104\u001b[0m H \u001b[38;5;241m=\u001b[39m QobjEvo(H, args\u001b[38;5;241m=\u001b[39margs, tlist\u001b[38;5;241m=\u001b[39mtlist)\n\u001b[0;32m    105\u001b[0m solver \u001b[38;5;241m=\u001b[39m SESolver(H, options\u001b[38;5;241m=\u001b[39moptions)\n\u001b[1;32m--> 106\u001b[0m \u001b[38;5;28;01mreturn\u001b[39;00m \u001b[43msolver\u001b[49m\u001b[38;5;241;43m.\u001b[39;49m\u001b[43mrun\u001b[49m\u001b[43m(\u001b[49m\u001b[43mpsi0\u001b[49m\u001b[43m,\u001b[49m\u001b[43m \u001b[49m\u001b[43mtlist\u001b[49m\u001b[43m,\u001b[49m\u001b[43m \u001b[49m\u001b[43me_ops\u001b[49m\u001b[38;5;241;43m=\u001b[39;49m\u001b[43me_ops\u001b[49m\u001b[43m)\u001b[49m\n",
      "File \u001b[1;32mc:\\Users\\pc\\Desktop\\work\\.venv\\Lib\\site-packages\\qutip\\solver\\solver_base.py:158\u001b[0m, in \u001b[0;36mSolver.run\u001b[1;34m(self, state0, tlist, args, e_ops)\u001b[0m\n\u001b[0;32m    153\u001b[0m stats[\u001b[38;5;124m'\u001b[39m\u001b[38;5;124mpreparation time\u001b[39m\u001b[38;5;124m'\u001b[39m] \u001b[38;5;241m+\u001b[39m\u001b[38;5;241m=\u001b[39m time() \u001b[38;5;241m-\u001b[39m _time_start\n\u001b[0;32m    155\u001b[0m progress_bar \u001b[38;5;241m=\u001b[39m progress_bars[\u001b[38;5;28mself\u001b[39m\u001b[38;5;241m.\u001b[39moptions[\u001b[38;5;124m'\u001b[39m\u001b[38;5;124mprogress_bar\u001b[39m\u001b[38;5;124m'\u001b[39m]](\n\u001b[0;32m    156\u001b[0m     \u001b[38;5;28mlen\u001b[39m(tlist)\u001b[38;5;241m-\u001b[39m\u001b[38;5;241m1\u001b[39m, \u001b[38;5;241m*\u001b[39m\u001b[38;5;241m*\u001b[39m\u001b[38;5;28mself\u001b[39m\u001b[38;5;241m.\u001b[39moptions[\u001b[38;5;124m'\u001b[39m\u001b[38;5;124mprogress_kwargs\u001b[39m\u001b[38;5;124m'\u001b[39m]\n\u001b[0;32m    157\u001b[0m )\n\u001b[1;32m--> 158\u001b[0m \u001b[43m\u001b[49m\u001b[38;5;28;43;01mfor\u001b[39;49;00m\u001b[43m \u001b[49m\u001b[43mt\u001b[49m\u001b[43m,\u001b[49m\u001b[43m \u001b[49m\u001b[43mstate\u001b[49m\u001b[43m \u001b[49m\u001b[38;5;129;43;01min\u001b[39;49;00m\u001b[43m \u001b[49m\u001b[38;5;28;43mself\u001b[39;49m\u001b[38;5;241;43m.\u001b[39;49m\u001b[43m_integrator\u001b[49m\u001b[38;5;241;43m.\u001b[39;49m\u001b[43mrun\u001b[49m\u001b[43m(\u001b[49m\u001b[43mtlist\u001b[49m\u001b[43m)\u001b[49m\u001b[43m:\u001b[49m\n\u001b[0;32m    159\u001b[0m \u001b[43m    \u001b[49m\u001b[43mprogress_bar\u001b[49m\u001b[38;5;241;43m.\u001b[39;49m\u001b[43mupdate\u001b[49m\u001b[43m(\u001b[49m\u001b[43m)\u001b[49m\n\u001b[0;32m    160\u001b[0m \u001b[43m    \u001b[49m\u001b[43mresults\u001b[49m\u001b[38;5;241;43m.\u001b[39;49m\u001b[43madd\u001b[49m\u001b[43m(\u001b[49m\u001b[43mt\u001b[49m\u001b[43m,\u001b[49m\u001b[43m \u001b[49m\u001b[38;5;28;43mself\u001b[39;49m\u001b[38;5;241;43m.\u001b[39;49m\u001b[43m_restore_state\u001b[49m\u001b[43m(\u001b[49m\u001b[43mstate\u001b[49m\u001b[43m,\u001b[49m\u001b[43m \u001b[49m\u001b[43mcopy\u001b[49m\u001b[38;5;241;43m=\u001b[39;49m\u001b[38;5;28;43;01mFalse\u001b[39;49;00m\u001b[43m)\u001b[49m\u001b[43m)\u001b[49m\n",
      "File \u001b[1;32mc:\\Users\\pc\\Desktop\\work\\.venv\\Lib\\site-packages\\qutip\\solver\\integrator\\integrator.py:201\u001b[0m, in \u001b[0;36mIntegrator.run\u001b[1;34m(self, tlist)\u001b[0m\n\u001b[0;32m    187\u001b[0m \u001b[38;5;250m\u001b[39m\u001b[38;5;124;03m\"\"\"\u001b[39;00m\n\u001b[0;32m    188\u001b[0m \u001b[38;5;124;03mIntegrate the system yielding the state for each times in tlist.\u001b[39;00m\n\u001b[0;32m    189\u001b[0m \n\u001b[1;32m   (...)\u001b[0m\n\u001b[0;32m    198\u001b[0m \u001b[38;5;124;03m    The state of the solver at each ``t`` of tlist.\u001b[39;00m\n\u001b[0;32m    199\u001b[0m \u001b[38;5;124;03m\"\"\"\u001b[39;00m\n\u001b[0;32m    200\u001b[0m \u001b[38;5;28;01mfor\u001b[39;00m t \u001b[38;5;129;01min\u001b[39;00m tlist[\u001b[38;5;241m1\u001b[39m:]:\n\u001b[1;32m--> 201\u001b[0m     \u001b[38;5;28;01myield\u001b[39;00m \u001b[38;5;28;43mself\u001b[39;49m\u001b[38;5;241;43m.\u001b[39;49m\u001b[43mintegrate\u001b[49m\u001b[43m(\u001b[49m\u001b[43mt\u001b[49m\u001b[43m,\u001b[49m\u001b[43m \u001b[49m\u001b[38;5;28;43;01mFalse\u001b[39;49;00m\u001b[43m)\u001b[49m\n",
      "File \u001b[1;32mc:\\Users\\pc\\Desktop\\work\\.venv\\Lib\\site-packages\\qutip\\solver\\integrator\\scipy_integrator.py:111\u001b[0m, in \u001b[0;36mIntegratorScipyAdams.integrate\u001b[1;34m(self, t, copy)\u001b[0m\n\u001b[0;32m    109\u001b[0m \u001b[38;5;28;01mif\u001b[39;00m t \u001b[38;5;241m!=\u001b[39m \u001b[38;5;28mself\u001b[39m\u001b[38;5;241m.\u001b[39m_ode_solver\u001b[38;5;241m.\u001b[39mt:\n\u001b[0;32m    110\u001b[0m     \u001b[38;5;28mself\u001b[39m\u001b[38;5;241m.\u001b[39m_ode_solver\u001b[38;5;241m.\u001b[39mintegrate(t)\n\u001b[1;32m--> 111\u001b[0m \u001b[38;5;28;01mreturn\u001b[39;00m \u001b[38;5;28;43mself\u001b[39;49m\u001b[38;5;241;43m.\u001b[39;49m\u001b[43mget_state\u001b[49m\u001b[43m(\u001b[49m\u001b[43mcopy\u001b[49m\u001b[43m)\u001b[49m\n",
      "File \u001b[1;32mc:\\Users\\pc\\Desktop\\work\\.venv\\Lib\\site-packages\\qutip\\solver\\integrator\\scipy_integrator.py:86\u001b[0m, in \u001b[0;36mIntegratorScipyAdams.get_state\u001b[1;34m(self, copy)\u001b[0m\n\u001b[0;32m     84\u001b[0m \u001b[38;5;28;01mif\u001b[39;00m \u001b[38;5;129;01mnot\u001b[39;00m \u001b[38;5;28mself\u001b[39m\u001b[38;5;241m.\u001b[39m_is_set:\n\u001b[0;32m     85\u001b[0m     \u001b[38;5;28;01mraise\u001b[39;00m IntegratorException(\u001b[38;5;124m\"\u001b[39m\u001b[38;5;124mThe state is not initialted\u001b[39m\u001b[38;5;124m\"\u001b[39m)\n\u001b[1;32m---> 86\u001b[0m \u001b[38;5;28;43mself\u001b[39;49m\u001b[38;5;241;43m.\u001b[39;49m\u001b[43m_check_failed_integration\u001b[49m\u001b[43m(\u001b[49m\u001b[43m)\u001b[49m\n\u001b[0;32m     87\u001b[0m t \u001b[38;5;241m=\u001b[39m \u001b[38;5;28mself\u001b[39m\u001b[38;5;241m.\u001b[39m_ode_solver\u001b[38;5;241m.\u001b[39mt\n\u001b[0;32m     88\u001b[0m \u001b[38;5;28;01mif\u001b[39;00m \u001b[38;5;28mself\u001b[39m\u001b[38;5;241m.\u001b[39m_mat_state:\n",
      "File \u001b[1;32mc:\\Users\\pc\\Desktop\\work\\.venv\\Lib\\site-packages\\qutip\\solver\\integrator\\scipy_integrator.py:157\u001b[0m, in \u001b[0;36mIntegratorScipyAdams._check_failed_integration\u001b[1;34m(self)\u001b[0m\n\u001b[0;32m    145\u001b[0m     \u001b[38;5;28;01mreturn\u001b[39;00m\n\u001b[0;32m    146\u001b[0m messages \u001b[38;5;241m=\u001b[39m {\n\u001b[0;32m    147\u001b[0m     \u001b[38;5;241m-\u001b[39m\u001b[38;5;241m1\u001b[39m: \u001b[38;5;124m'\u001b[39m\u001b[38;5;124mExcess work done on this call. Try to increasing \u001b[39m\u001b[38;5;124m'\u001b[39m\n\u001b[0;32m    148\u001b[0m         \u001b[38;5;124m'\u001b[39m\u001b[38;5;124mthe nsteps parameter in the Options class\u001b[39m\u001b[38;5;124m'\u001b[39m,\n\u001b[1;32m   (...)\u001b[0m\n\u001b[0;32m    155\u001b[0m         \u001b[38;5;124m'\u001b[39m\u001b[38;5;124m component i vanished, and ATOL or ATOL(i) = 0.)\u001b[39m\u001b[38;5;124m'\u001b[39m\n\u001b[0;32m    156\u001b[0m }\n\u001b[1;32m--> 157\u001b[0m \u001b[38;5;28;01mraise\u001b[39;00m IntegratorException(\n\u001b[0;32m    158\u001b[0m     messages[\u001b[38;5;28mself\u001b[39m\u001b[38;5;241m.\u001b[39m_ode_solver\u001b[38;5;241m.\u001b[39m_integrator\u001b[38;5;241m.\u001b[39mistate]\n\u001b[0;32m    159\u001b[0m )\n",
      "\u001b[1;31mIntegratorException\u001b[0m: Excess work done on this call. Try to increasing the nsteps parameter in the Options class"
     ]
    }
   ],
   "source": [
    "# quantum_simulation.py\n",
    "\n",
    "import numpy as np\n",
    "import qutip\n",
    "from qutip_qip.circuit import QubitCircuit\n",
    "from qutip_qip.device import DispersiveCavityQED\n",
    "\n",
    "# Define qubit frequencies in GHz\n",
    "frequencies = [5.0, 5.1]  # Qubit 0 and Qubit 1 frequencies\n",
    "\n",
    "# Define qubit T1 relaxation times in microseconds\n",
    "T1 = [1e-2, 1e-6]  # Qubit 0 and Qubit 1 T1 times\n",
    "\n",
    "# Initialize QubitCircuit with 2 qubits\n",
    "qc = QubitCircuit(2)\n",
    "qc.add_gate(\"RX\", 0, arg_value=np.pi)\n",
    "qc.add_gate(\"RY\", 1, arg_value=np.pi)\n",
    "qc.add_gate(\"CNOT\", targets=[1], controls=[0])\n",
    "\n",
    "# Initialize DispersiveCavityQED processor with frequencies and T1 times\n",
    "processor = DispersiveCavityQED(2, g=0.05, frequencies=frequencies, T1=T1, w0 = 9.2, nsteps = 1e5)\n",
    "processor.load_circuit(qc)\n",
    "\n",
    "# Define initial state\n",
    "initial_state = qutip.basis([10, 2, 2], [0, 0, 0])\n",
    "\n",
    "# Run the simulation with T1 relaxation\n",
    "result = processor.run_state(\n",
    "    initial_state,\n",
    "    options=qutip.Options(nsteps=5000)\n",
    ")\n",
    "\n",
    "# Extract the final qubit state by tracing out the cavity\n",
    "final_qubit_state = result.states[-1].ptrace([1, 2])\n",
    "\n",
    "# Define the expected state after running the circuit\n",
    "expected_state = qc.run(qutip.basis([2, 2], [0, 0]))\n",
    "\n",
    "# Calculate and print fidelity\n",
    "fidelity = round(qutip.fidelity(final_qubit_state, expected_state), 4)\n",
    "print(fidelity)\n"
   ]
  },
  {
   "cell_type": "code",
   "execution_count": 24,
   "metadata": {},
   "outputs": [
    {
     "name": "stdout",
     "output_type": "stream",
     "text": [
      "0.9987\n"
     ]
    }
   ],
   "source": [
    "import numpy as np\n",
    "import qutip\n",
    "from qutip_qip.circuit import QubitCircuit\n",
    "from qutip_qip.device import DispersiveCavityQED\n",
    "\n",
    "# Define the qubit circuit\n",
    "qc = QubitCircuit(2)\n",
    "qc.add_gate(\"RX\", 0, arg_value=np.pi)\n",
    "qc.add_gate(\"RY\", 1, arg_value=np.pi)\n",
    "qc.add_gate(\"CNOT\", targets=[1], controls=[0])\n",
    "\n",
    "# Qubit frequencies (in Hz or any consistent units)\n",
    "qubit_frequencies = [5.0, 6.0]  # Example values\n",
    "\n",
    "# Relaxation times (T1) in seconds\n",
    "T1_times = [30e-6, 25e-6]  # Example values for qubit 0 and qubit 1\n",
    "\n",
    "# Initialize the processor with explicit frequencies\n",
    "processor = DispersiveCavityQED(2, g=0.1, omega=qubit_frequencies)\n",
    "\n",
    "# Load the quantum circuit into the processor\n",
    "processor.load_circuit(qc)\n",
    "\n",
    "# Define collapse operators for T1 relaxation\n",
    "collapse_ops = [\n",
    "    np.sqrt(1 / T1_times[0]) * qutip.tensor(qutip.destroy(2), qutip.qeye(2)),  # Qubit 0 T1\n",
    "    np.sqrt(1 / T1_times[1]) * qutip.tensor(qutip.qeye(2), qutip.destroy(2))   # Qubit 1 T1\n",
    "]\n",
    "\n",
    "# Initial state: ground state in the extended Hilbert space of the system\n",
    "initial_state = qutip.basis([10, 2, 2], [0, 0, 0])\n",
    "\n",
    "# Run the simulation with collapse operators to account for decoherence (T1)\n",
    "result = processor.run_state(\n",
    "    initial_state,\n",
    "    options=qutip.Options(nsteps=5000)\n",
    ")\n",
    "\n",
    "# Trace out to get the final state of the qubits (qubits 1 and 2)\n",
    "final_qubit_state = result.states[-1].ptrace([1, 2])\n",
    "\n",
    "# Compare the fidelity of the final state with the expected output from the ideal circuit\n",
    "ideal_final_state = qc.run(qutip.basis([2, 2], [0, 0]))\n",
    "fidelity = qutip.fidelity(final_qubit_state, ideal_final_state)\n",
    "\n",
    "# Print the fidelity rounded to 4 decimal places\n",
    "print(round(fidelity, 4))\n"
   ]
  }
 ],
 "metadata": {
  "kernelspec": {
   "display_name": ".venv",
   "language": "python",
   "name": "python3"
  },
  "language_info": {
   "codemirror_mode": {
    "name": "ipython",
    "version": 3
   },
   "file_extension": ".py",
   "mimetype": "text/x-python",
   "name": "python",
   "nbconvert_exporter": "python",
   "pygments_lexer": "ipython3",
   "version": "3.12.2"
  }
 },
 "nbformat": 4,
 "nbformat_minor": 2
}

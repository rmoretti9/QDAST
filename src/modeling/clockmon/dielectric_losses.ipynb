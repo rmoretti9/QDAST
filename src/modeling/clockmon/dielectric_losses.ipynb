{
 "cells": [
  {
   "cell_type": "markdown",
   "metadata": {},
   "source": []
  },
  {
   "cell_type": "code",
   "execution_count": 14,
   "metadata": {},
   "outputs": [],
   "source": [
    "import numpy as np\n",
    "import pandas as pd\n",
    "import matplotlib.pyplot as plt"
   ]
  },
  {
   "cell_type": "code",
   "execution_count": 15,
   "metadata": {},
   "outputs": [],
   "source": [
    "def Q_factor_to_dataframe(dfin, tan_ma, tan_ms, tan_sa, tan_substrate):\n",
    "    df = dfin.copy()\n",
    "    df['1/Q_MA_fixed'] = df['p_MA_fixed']*tan_ma\n",
    "    df['1/Q_MS_fixed'] = df['p_MS_fixed']*tan_ms\n",
    "    df['1/Q_SA_fixed'] = df['p_SA_fixed']*tan_sa\n",
    "    df['1/Q_substrate_fixed'] = df['p_substrate_fixed']*tan_substrate\n",
    "    df['1/Q'] = df['1/Q_MA_fixed'] + df['1/Q_MS_fixed'] + df['1/Q_SA_fixed'] + df['1/Q_substrate_fixed']\n",
    "    df['Q_MA_fixed'] = 1./df['1/Q_MA_fixed']\n",
    "    df['Q_MS_fixed'] = 1./df['1/Q_MS_fixed']\n",
    "    df['Q_SA_fixed'] = 1./df['1/Q_SA_fixed']\n",
    "    df['Q_substrate_fixed'] = 1./df['1/Q_substrate_fixed']\n",
    "    df['Q'] = 1./df['1/Q']\n",
    "    df['tan_ma']=tan_ma\n",
    "    df['tan_ms']=tan_ms\n",
    "    df['tan_sa']=tan_sa\n",
    "    df['tan_substrate']=tan_substrate\n",
    "    return df"
   ]
  },
  {
   "cell_type": "code",
   "execution_count": 16,
   "metadata": {},
   "outputs": [],
   "source": [
    "eigenmode_paths=[\n",
    "    'libraries/clockmon_eigenmode_epr.csv',\n",
    "]\n",
    "names = [\n",
    "    'Clockmon',\n",
    "]\n"
   ]
  },
  {
   "cell_type": "code",
   "execution_count": 17,
   "metadata": {},
   "outputs": [],
   "source": [
    "# case 0: Niko's Thesis\n",
    "# case 1: Nb-Si copy of https://arxiv.org/abs/2012.10761\n",
    "# case 2: same as previous, but pessimistic substrate from https://arxiv.org/abs/2211.16437\n",
    "# case 3: TiN-SI copy of https://arxiv.org/abs/2211.16437\n",
    "# case 4: TiN-SI with better substrate as 1st\n",
    "# case 5: \"best hypothesis: MA and MS dominate\": [6000e-6, 5500e-6, 0, 0.30e-6]\n",
    "# case 6: \"best hypothesis: MA and SA dominate\": [6000e-6, 0, 1500e-6, 0.30e-6]\n",
    "\n",
    "\n",
    "case_strs = [\n",
    "    \"case 0: Niko's Thesis\",\n",
    "    'case 1: Nb-Si https://arxiv.org/abs/2012.10761',\n",
    "    'case 2: Pessimistic substrate https://arxiv.org/abs/2211.16437',\n",
    "    'case 3: TiN-SI https://arxiv.org/abs/2211.16437',\n",
    "    'case 4: TiN-SI with better substrate',\n",
    "    'case 5: Best hypothesis QFA, QFB: MA and MS dominate',\n",
    "    'case 6: Best hypothesis QFA, QFB: MA and SA dominate',\n",
    "]\n",
    "   \n"
   ]
  },
  {
   "cell_type": "code",
   "execution_count": 18,
   "metadata": {},
   "outputs": [],
   "source": [
    "# ma_vals = [9.9e-3, 9.9e-3, 9.9e-3, 3.5e-3, 3.5e-3, 6e-3, 6e-3]\n",
    "# ms_vals = [2.6e-3, 3.5e-4, 3.5e-4, 2.7e-4, 2.7e-4, 5.5e-3, 0]\n",
    "# sa_vals = [2.1e-3, 1.7e-3, 1.7e-3, 1.0e-3, 1.0e-3, 0, 1.5e-3]\n",
    "# substrate_vals = [5e-7, 1.3e-7, 2.8e-7, 2.8e-7, 1.3e-7, 3e-7, 3e-7]\n",
    "\n",
    "# Let's have a naive approach for now\n",
    "ma_vals = [9.9e-3]\n",
    "ms_vals = [3.5e-4]\n",
    "sa_vals = [1.7e-3]\n",
    "\n",
    "substrate_vals = [1.3e-7]\n",
    "case_names = [f\"ms:{ms}, ma:{ma}, sa:{sa}, substrate:{substrate}\"\n",
    "              for ms, ma, sa, substrate in zip(ms_vals, ma_vals, sa_vals, substrate_vals)]\n",
    "\n",
    "\n",
    "dfs = []\n",
    "for i_tan in range(len(ma_vals)):\n",
    "    for epath in eigenmode_paths:\n",
    "        df = pd.read_csv(epath)\n",
    "        df['case']=df.index*0+i_tan\n",
    "        dfs.append(Q_factor_to_dataframe(df, ma_vals[i_tan], ms_vals[i_tan], sa_vals[i_tan], substrate_vals[i_tan]))\n",
    "\n",
    "df = pd.concat(dfs)"
   ]
  },
  {
   "cell_type": "code",
   "execution_count": 19,
   "metadata": {},
   "outputs": [
    {
     "data": {
      "text/plain": [
       "0    61.018257\n",
       "Name: T1, dtype: float64"
      ]
     },
     "execution_count": 19,
     "metadata": {},
     "output_type": "execute_result"
    }
   ],
   "source": [
    "f = 5.7e9\n",
    "omega = 2.*np.pi*f\n",
    "df['T1']=df['Q']/omega*1e6\n",
    "df['T1']"
   ]
  },
  {
   "cell_type": "code",
   "execution_count": 20,
   "metadata": {},
   "outputs": [
    {
     "data": {
      "text/plain": [
       "0    2.185317e+06\n",
       "Name: Q, dtype: float64"
      ]
     },
     "execution_count": 20,
     "metadata": {},
     "output_type": "execute_result"
    }
   ],
   "source": [
    "df['Q']"
   ]
  },
  {
   "cell_type": "code",
   "execution_count": 21,
   "metadata": {},
   "outputs": [],
   "source": [
    "clockmon_ma_mer = df.iloc[0][\"p_MA_fixed\"]\n",
    "clockmon_sa_mer = df.iloc[0][\"p_SA_fixed\"]\n",
    "clockmon_ms_mer = df.iloc[0][\"p_MS_fixed\"]\n",
    "clockmon_substrate_mer = df.iloc[0][\"p_substrate_fixed\"]\n",
    "clockmon_air_mer = df.iloc[0][\"p_vacuum_fixed\"]"
   ]
  },
  {
   "cell_type": "code",
   "execution_count": 22,
   "metadata": {},
   "outputs": [
    {
     "data": {
      "image/png": "[encoded data removed]",
      "text/plain": [
       "<Figure size 200x400 with 1 Axes>"
      ]
     },
     "metadata": {},
     "output_type": "display_data"
    }
   ],
   "source": [
    "mer = [clockmon_ma_mer, clockmon_sa_mer, clockmon_ms_mer]\n",
    "\n",
    "# Data for plotting\n",
    "categories = ['mer']\n",
    "MA = [mer[0]]\n",
    "SA = [mer[1]]\n",
    "MS = [mer[2]]\n",
    "\n",
    "# Create the plot\n",
    "fig, ax = plt.subplots()\n",
    "fig.set_size_inches(2, 4)  \n",
    "bar_width = 0.3\n",
    "r1 = range(len(categories))\n",
    "\n",
    "ax.bar(r1, MA, color='b', edgecolor='grey', width=bar_width, label='MA')\n",
    "ax.bar(r1, SA, bottom=MA, color='r', edgecolor='grey', width=bar_width, label='SA')\n",
    "ax.bar(r1, MS, bottom=[i+j for i,j in zip(MA, SA)], color='g', edgecolor='grey', width=bar_width, label='MS')\n",
    "\n",
    "# ax.set_xlabel('Categories', fontweight='bold')\n",
    "ax.set_ylabel('EPR', fontweight='bold')\n",
    "ax.set_title('Surface EPR')\n",
    "ax.set_xticks([])\n",
    "# ax.set_xticklabels(categories)\n",
    "ax.legend()\n",
    "plt.savefig(\"surface_loss.svg\", bbox_inches = \"tight\")\n",
    "plt.show()"
   ]
  },
  {
   "cell_type": "code",
   "execution_count": 23,
   "metadata": {},
   "outputs": [
    {
     "data": {
      "image/png": "[encoded data removed]",
      "text/plain": [
       "<Figure size 200x400 with 1 Axes>"
      ]
     },
     "metadata": {},
     "output_type": "display_data"
    }
   ],
   "source": [
    "fig, ax = plt.subplots()\n",
    "fig.set_size_inches(2, 4)  # Adjust the width and height as needed\n",
    "\n",
    "categories = ['mer']\n",
    "substrate = [clockmon_substrate_mer, ]\n",
    "air = [clockmon_air_mer]\n",
    "\n",
    "bar_width = 0.5\n",
    "r1 = range(len(categories))\n",
    "\n",
    "ax.bar(r1, substrate, color='c', edgecolor='grey', width=bar_width, label='Substrate')\n",
    "ax.bar(r1, air, bottom=substrate, color='m', edgecolor='grey', width=bar_width, label='Air')\n",
    "\n",
    "# ax.set_xlabel('Categories', fontweight='bold')\n",
    "ax.set_ylabel('EPR', fontweight='bold')\n",
    "ax.set_title('Substrate - Air EPR')\n",
    "ax.set_xticks([])\n",
    "# ax.set_xticklabels(categories)\n",
    "ax.legend(loc='lower right') \n",
    "plt.savefig(\"bulk_loss.svg\", bbox_inches = \"tight\")\n",
    "\n",
    "plt.show()"
   ]
  }
 ],
 "metadata": {
  "kernelspec": {
   "display_name": ".venv",
   "language": "python",
   "name": "python3"
  },
  "language_info": {
   "codemirror_mode": {
    "name": "ipython",
    "version": 3
   },
   "file_extension": ".py",
   "mimetype": "text/x-python",
   "name": "python",
   "nbconvert_exporter": "python",
   "pygments_lexer": "ipython3",
   "version": "3.12.2"
  }
 },
 "nbformat": 4,
 "nbformat_minor": 2
}

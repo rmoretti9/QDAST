{
 "cells": [
  {
   "cell_type": "markdown",
   "metadata": {},
   "source": [
    "# 0_2 ports clokmon\n",
    "We exctract the C_sigma of a floating transmon qubit with two couplers by using QuCAT"
   ]
  },
  {
   "cell_type": "code",
   "execution_count": 73,
   "metadata": {},
   "outputs": [],
   "source": [
    "from qucat import Network,L,J,C,R\n",
    "import numpy as np\n",
    "import pandas as pd"
   ]
  },
  {
   "cell_type": "code",
   "execution_count": 74,
   "metadata": {},
   "outputs": [],
   "source": [
    "file_path = 'clockmon_capacitance_0_2_q3d_results.csv'\n",
    "df = pd.read_csv(file_path)"
   ]
  },
  {
   "cell_type": "code",
   "execution_count": 75,
   "metadata": {},
   "outputs": [],
   "source": [
    "Cmat = np.zeros((4,4))\n",
    "for i in range(4):\n",
    "    for j in range(4):\n",
    "        Cmat[i, j] = df[\"C\"+str(i+1)+str(j+1)].values[0]"
   ]
  },
  {
   "cell_type": "code",
   "execution_count": 76,
   "metadata": {},
   "outputs": [],
   "source": [
    "network_list = []\n",
    "for i in range(0, 4):\n",
    "    for j in range(i, 4):\n",
    "        if i == j:\n",
    "            network_list.append(C(0, j+1, Cmat[i, j]))\n",
    "        else:\n",
    "            network_list.append(C(i+1, j+1, Cmat[i, j]))\n",
    "network_list.append(J(3, 4, 'Lj'))"
   ]
  },
  {
   "cell_type": "code",
   "execution_count": 77,
   "metadata": {},
   "outputs": [
    {
     "name": "stdout",
     "output_type": "stream",
     "text": [
      "         mode |       freq.  |       diss.  |       anha.  |\n",
      "            0 |     5.34 GHz |          0Hz |      218 MHz |\n",
      "\n",
      "Kerr coefficients (diagonal = Kerr, off-diagonal = cross-Kerr)\n",
      "         mode |         0    |\n",
      "            0 |      218 MHz |\n",
      "\n",
      "C_sigma extracted =  8.883685926355346e-14 fF\n"
     ]
    }
   ],
   "source": [
    "cir = Network(network_list)\n",
    "Lj = 10e-9\n",
    "f,k,A,chi = cir.f_k_A_chi(pretty_print=True,  Lj = Lj)\n",
    "ham = cir.hamiltonian(modes = [0],\n",
    "                    taylor = 12,\n",
    "                    excitations = [10],\n",
    "                    Lj = Lj)\n",
    "# ee = ham.eigenenergies()\n",
    "# ee -= ee[0]\n",
    "c_sigma_extracted = 1/Lj/(2*np.pi*f[0])**2\n",
    "print(\"C_sigma extracted = \", c_sigma_extracted, \"fF\")"
   ]
  },
  {
   "cell_type": "markdown",
   "metadata": {},
   "source": [
    "# Let's consider a coupler second mode"
   ]
  },
  {
   "cell_type": "code",
   "execution_count": 78,
   "metadata": {},
   "outputs": [],
   "source": [
    "network_list = []\n",
    "for i in range(0, 4):\n",
    "    for j in range(i, 4):\n",
    "        if i == j:\n",
    "            network_list.append(C(0, j+1, Cmat[i, j]))\n",
    "        else:\n",
    "            network_list.append(C(i+1, j+1, Cmat[i, j]))\n",
    "network_list.append(J(3, 4, 'Lj'))\n",
    "\n",
    "\n",
    "planck_h = 6.62607015e-34\n",
    "e_charge = 1.60217663e-19\n",
    "phi0 =  2.067833848e-15 # Wb\n",
    "\n",
    "a = 10e-6\n",
    "b = 6e-6\n",
    "ep_r = 11.45\n",
    "\n",
    "rr_freq_target = 7e9\n",
    "Z0 = 50\n",
    "l_r = Z0*np.pi/(4*np.pi*rr_freq_target)\n",
    "c_r = 1/((2*np.pi*rr_freq_target)**2*l_r)\n",
    "network_list.append(C(0, 2, c_r))\n",
    "network_list.append(L(0, 2, l_r))\n"
   ]
  },
  {
   "cell_type": "code",
   "execution_count": 79,
   "metadata": {},
   "outputs": [
    {
     "name": "stdout",
     "output_type": "stream",
     "text": [
      "         mode |       freq.  |       diss.  |       anha.  |\n",
      "            0 |     4.51 GHz |          0Hz |      217 MHz |\n",
      "            1 |     6.42 GHz |          0Hz |       200 Hz |\n",
      "\n",
      "Kerr coefficients (diagonal = Kerr, off-diagonal = cross-Kerr)\n",
      "         mode |         0    |         1    |\n",
      "            0 |      217 MHz |              |\n",
      "            1 |      417 kHz |       200 Hz |\n",
      "\n",
      "C_sigma extracted =  8.906189136775308e-14 fF\n"
     ]
    }
   ],
   "source": [
    "cir = Network(network_list)\n",
    "Lj = 14e-9\n",
    "f,k,A,chi = cir.f_k_A_chi(pretty_print=True,  Lj = Lj)\n",
    "ham = cir.hamiltonian(modes = [0, 1],\n",
    "                    taylor = 12,\n",
    "                    excitations = [10, 10],\n",
    "                    Lj = Lj)\n",
    "ee = ham.eigenenergies()\n",
    "ee -= ee[0]\n",
    "c_sigma_extracted = 1/Lj/(2*np.pi*f[0])**2\n",
    "print(\"C_sigma extracted = \", c_sigma_extracted, \"fF\")"
   ]
  },
  {
   "cell_type": "code",
   "execution_count": 80,
   "metadata": {},
   "outputs": [
    {
     "data": {
      "text/plain": [
       "4277690888.5638857"
      ]
     },
     "execution_count": 80,
     "metadata": {},
     "output_type": "execute_result"
    }
   ],
   "source": [
    "ee[1].real"
   ]
  },
  {
   "cell_type": "code",
   "execution_count": 81,
   "metadata": {},
   "outputs": [],
   "source": [
    "c_qr = np.abs((Cmat[1, 2]* Cmat[3,3] - Cmat[1, 3]*Cmat[2,2]) / (Cmat[2,2] + Cmat[1,2] + Cmat[3,3] + Cmat[3,1]))\n",
    "EC = e_charge**2/(c_sigma_extracted)/2/planck_h\n",
    "\n",
    "\n",
    "Ic = phi0/2/np.pi/Lj\n",
    "Ej = Ic*phi0/2/np.pi/planck_h"
   ]
  },
  {
   "cell_type": "code",
   "execution_count": 82,
   "metadata": {},
   "outputs": [],
   "source": [
    "g = 2*np.pi*EC/ (e_charge) * (Ej/EC/2)**(1/4) * c_qr / (c_r) * np.sqrt(2*planck_h * rr_freq_target * (c_r))"
   ]
  },
  {
   "cell_type": "code",
   "execution_count": 83,
   "metadata": {},
   "outputs": [],
   "source": [
    "omega_r = rr_freq_target*2*np.pi\n",
    "omega_q1 = ee[1].real*2*np.pi\n",
    "omega_q2 = (ee[1].real + 0.1e9)*2*np.pi\n",
    "J = 0.5 * g**2*(omega_q1 + omega_q2 - 2*omega_r) / (omega_q1 - omega_r) / (omega_q2 - omega_r)"
   ]
  },
  {
   "cell_type": "code",
   "execution_count": 84,
   "metadata": {},
   "outputs": [
    {
     "data": {
      "text/plain": [
       "-7170653.759962644"
      ]
     },
     "execution_count": 84,
     "metadata": {},
     "output_type": "execute_result"
    }
   ],
   "source": [
    "J"
   ]
  }
 ],
 "metadata": {
  "kernelspec": {
   "display_name": ".venv",
   "language": "python",
   "name": "python3"
  },
  "language_info": {
   "codemirror_mode": {
    "name": "ipython",
    "version": 3
   },
   "file_extension": ".py",
   "mimetype": "text/x-python",
   "name": "python",
   "nbconvert_exporter": "python",
   "pygments_lexer": "ipython3",
   "version": "3.12.2"
  }
 },
 "nbformat": 4,
 "nbformat_minor": 2
}

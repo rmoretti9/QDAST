{
 "cells": [
  {
   "cell_type": "markdown",
   "metadata": {},
   "source": [
    "# 2-ports Clockmon library analysis"
   ]
  },
  {
   "cell_type": "code",
   "execution_count": 2,
   "metadata": {},
   "outputs": [],
   "source": [
    "import numpy as np\n",
    "import matplotlib.pyplot as plt\n",
    "from modeling.clockmon.libraries.clockmon_library_2ports import clockmon_library_2ports"
   ]
  },
  {
   "cell_type": "code",
   "execution_count": 12,
   "metadata": {},
   "outputs": [],
   "source": [
    "from qucat import Network,L,J,C,R\n",
    "import numpy as np\n",
    "import pandas as pd"
   ]
  },
  {
   "cell_type": "code",
   "execution_count": 5,
   "metadata": {},
   "outputs": [],
   "source": [
    "clockmon_lib = clockmon_library_2ports()\n",
    "coupler_widths0 = np.linspace(20, 200, 1001)\n",
    "coupler_widths2 = np.linspace(20, 200, 1001)"
   ]
  },
  {
   "cell_type": "code",
   "execution_count": 29,
   "metadata": {},
   "outputs": [],
   "source": [
    "Cmat = clockmon_lib(200, 200)"
   ]
  },
  {
   "cell_type": "code",
   "execution_count": 30,
   "metadata": {},
   "outputs": [
    {
     "name": "stdout",
     "output_type": "stream",
     "text": [
      "         mode |       freq.  |       diss.  |       anha.  |\n",
      "            0 |     5.33 GHz |          0Hz |      218 MHz |\n",
      "\n",
      "Kerr coefficients (diagonal = Kerr, off-diagonal = cross-Kerr)\n",
      "         mode |         0    |\n",
      "            0 |      218 MHz |\n",
      "\n",
      "C_sigma extracted =  8.89982837309382e-14 fF\n"
     ]
    }
   ],
   "source": [
    "cir = Network(network_list)\n",
    "Lj = 10e-9\n",
    "f,k,A,chi = cir.f_k_A_chi(pretty_print=True,  Lj = Lj)\n",
    "ham = cir.hamiltonian(modes = [0],\n",
    "                    taylor = 12,\n",
    "                    excitations = [10],\n",
    "                    Lj = Lj)\n",
    "# ee = ham.eigenenergies()\n",
    "# ee -= ee[0]\n",
    "c_sigma_extracted = 1/Lj/(2*np.pi*f[0])**2\n",
    "print(\"C_sigma extracted = \", c_sigma_extracted, \"fF\")"
   ]
  },
  {
   "cell_type": "code",
   "execution_count": 34,
   "metadata": {},
   "outputs": [
    {
     "data": {
      "text/plain": [
       "5.914818660517902e-15"
      ]
     },
     "execution_count": 34,
     "metadata": {},
     "output_type": "execute_result"
    }
   ],
   "source": [
    "(Cmat[0,2]*Cmat[3,3] - Cmat[0,3]*Cmat[2,2]) / (Cmat[2,2] + Cmat[0,2] + Cmat[3,3] + Cmat[0,3])"
   ]
  }
 ],
 "metadata": {
  "kernelspec": {
   "display_name": ".venv",
   "language": "python",
   "name": "python3"
  },
  "language_info": {
   "codemirror_mode": {
    "name": "ipython",
    "version": 3
   },
   "file_extension": ".py",
   "mimetype": "text/x-python",
   "name": "python",
   "nbconvert_exporter": "python",
   "pygments_lexer": "ipython3",
   "version": "3.12.2"
  }
 },
 "nbformat": 4,
 "nbformat_minor": 2
}
